{
 "cells": [
  {
   "cell_type": "markdown",
   "metadata": {
    "id": "IszFBGHQyIMx"
   },
   "source": [
    "# HOMEWORK 2 - THEODOROS PATEROS (G40734847)"
   ]
  },
  {
   "cell_type": "markdown",
   "metadata": {},
   "source": [
    "Import necessary libraries"
   ]
  },
  {
   "cell_type": "code",
   "execution_count": 4,
   "metadata": {
    "id": "SfV895YDvU7J"
   },
   "outputs": [],
   "source": [
    "'''\n",
    "#Train a simple deep CNN on the CIFAR10 small images dataset.\n",
    "It gets to 75% validation accuracy in 25 epochs, and 79% after 50 epochs.\n",
    "(it's still underfitting at that point, though).\n",
    "'''\n",
    "from __future__ import print_function\n",
    "import keras\n",
    "from keras.datasets import cifar10\n",
    "from keras.preprocessing.image import ImageDataGenerator\n",
    "from keras.models import Sequential\n",
    "from keras.layers import Dense, Dropout, Activation, Flatten\n",
    "from keras.layers import Conv2D, MaxPooling2D\n",
    "import os\n"
   ]
  },
  {
   "cell_type": "markdown",
   "metadata": {
    "id": "DHngr4F5yeXV"
   },
   "source": [
    "Load data and set the parameters"
   ]
  },
  {
   "cell_type": "code",
   "execution_count": 5,
   "metadata": {
    "colab": {
     "base_uri": "https://localhost:8080/"
    },
    "id": "3R0dBp6rvYek",
    "outputId": "dc424020-e1b9-4076-9c6b-ee9d3d62f994"
   },
   "outputs": [
    {
     "name": "stdout",
     "output_type": "stream",
     "text": [
      "x_train shape: (50000, 32, 32, 3)\n",
      "50000 train samples\n",
      "10000 test samples\n"
     ]
    }
   ],
   "source": [
    "batch_size = 512\n",
    "num_classes = 10\n",
    "epochs = 10\n",
    "data_augmentation = True\n",
    "num_predictions = 20\n",
    "save_dir = os.path.join(os.getcwd(), 'saved_models')\n",
    "model_name = 'keras_cifar10_trained_model.h5'\n",
    "# The data, split between train and test sets:\n",
    "(x_train, y_train), (x_test, y_test) = cifar10.load_data()\n",
    "print('x_train shape:', x_train.shape)\n",
    "print(x_train.shape[0], 'train samples')\n",
    "print(x_test.shape[0], 'test samples')\n",
    "# Convert class vectors to binary class matrices.\n",
    "y_train = keras.utils.to_categorical(y_train, num_classes)\n",
    "y_test = keras.utils.to_categorical(y_test, num_classes)"
   ]
  },
  {
   "cell_type": "markdown",
   "metadata": {
    "id": "D16Y9hMByiKX"
   },
   "source": [
    "Generate the model"
   ]
  },
  {
   "cell_type": "code",
   "execution_count": 6,
   "metadata": {
    "id": "o_J3v0XUveSt"
   },
   "outputs": [],
   "source": [
    "model = Sequential()\n",
    "model.add(Conv2D(32, (3, 3), padding='same',\n",
    "    input_shape=x_train.shape[1:]))\n",
    "model.add(Activation('relu'))\n",
    "model.add(Conv2D(32, (3, 3)))\n",
    "model.add(Activation('relu'))\n",
    "model.add(MaxPooling2D(pool_size=(2, 2)))\n",
    "model.add(Dropout(0.25))\n",
    "\n",
    "model.add(Conv2D(64, (3, 3), padding='same'))\n",
    "model.add(Activation('relu'))\n",
    "model.add(Conv2D(64, (3, 3)))\n",
    "model.add(Activation('relu'))\n",
    "model.add(MaxPooling2D(pool_size=(2, 2)))\n",
    "model.add(Dropout(0.25))\n",
    "\n",
    "model.add(Flatten())\n",
    "model.add(Dense(512))\n",
    "model.add(Activation('relu'))\n",
    "model.add(Dropout(0.5))\n",
    "model.add(Dense(num_classes))\n",
    "model.add(Activation('softmax'))"
   ]
  },
  {
   "cell_type": "markdown",
   "metadata": {
    "id": "ygnG_8_EyEyS"
   },
   "source": [
    "Train the model"
   ]
  },
  {
   "cell_type": "code",
   "execution_count": 8,
   "metadata": {
    "colab": {
     "base_uri": "https://localhost:8080/"
    },
    "id": "jHtKdVCxvlzo",
    "outputId": "91717155-d408-4503-f149-dc6e7d724d66"
   },
   "outputs": [
    {
     "name": "stdout",
     "output_type": "stream",
     "text": [
      "Using real-time data augmentation.\n"
     ]
    },
    {
     "name": "stderr",
     "output_type": "stream",
     "text": [
      "/var/folders/px/m2vm_qc55yd4gkdnl89j1phc0000gn/T/ipykernel_21556/1491166128.py:55: UserWarning: `Model.fit_generator` is deprecated and will be removed in a future version. Please use `Model.fit`, which supports generators.\n",
      "  model.fit_generator(datagen.flow(x_train, y_train,\n"
     ]
    },
    {
     "name": "stdout",
     "output_type": "stream",
     "text": [
      "Epoch 1/10\n"
     ]
    },
    {
     "name": "stderr",
     "output_type": "stream",
     "text": [
      "2023-10-23 09:21:35.040389: I tensorflow/core/common_runtime/executor.cc:1197] [/device:CPU:0] (DEBUG INFO) Executor start aborting (this does not indicate an error and you can ignore this message): INVALID_ARGUMENT: You must feed a value for placeholder tensor 'Placeholder/_0' with dtype int32\n",
      "\t [[{{node Placeholder/_0}}]]\n"
     ]
    },
    {
     "name": "stdout",
     "output_type": "stream",
     "text": [
      "98/98 [==============================] - 115s 1s/step - loss: 2.1243 - accuracy: 0.2114 - val_loss: 1.9649 - val_accuracy: 0.3125\n",
      "Epoch 2/10\n",
      "98/98 [==============================] - 121s 1s/step - loss: 1.9365 - accuracy: 0.2991 - val_loss: 1.8030 - val_accuracy: 0.3695\n",
      "Epoch 3/10\n",
      "98/98 [==============================] - 113s 1s/step - loss: 1.8293 - accuracy: 0.3372 - val_loss: 1.7257 - val_accuracy: 0.3865\n",
      "Epoch 4/10\n",
      "98/98 [==============================] - 113s 1s/step - loss: 1.7647 - accuracy: 0.3594 - val_loss: 1.6398 - val_accuracy: 0.4166\n",
      "Epoch 5/10\n",
      "98/98 [==============================] - 130s 1s/step - loss: 1.7224 - accuracy: 0.3775 - val_loss: 1.6164 - val_accuracy: 0.4154\n",
      "Epoch 6/10\n",
      "98/98 [==============================] - 135s 1s/step - loss: 1.6808 - accuracy: 0.3893 - val_loss: 1.5799 - val_accuracy: 0.4270\n",
      "Epoch 7/10\n",
      "98/98 [==============================] - 133s 1s/step - loss: 1.6463 - accuracy: 0.4016 - val_loss: 1.5089 - val_accuracy: 0.4574\n",
      "Epoch 8/10\n",
      "98/98 [==============================] - 126s 1s/step - loss: 1.6106 - accuracy: 0.4131 - val_loss: 1.5026 - val_accuracy: 0.4536\n",
      "Epoch 9/10\n",
      "98/98 [==============================] - 114s 1s/step - loss: 1.5853 - accuracy: 0.4219 - val_loss: 1.4950 - val_accuracy: 0.4524\n",
      "Epoch 10/10\n",
      "98/98 [==============================] - 132s 1s/step - loss: 1.5538 - accuracy: 0.4354 - val_loss: 1.4465 - val_accuracy: 0.4773\n"
     ]
    }
   ],
   "source": [
    "# initiate RMSprop optimizer\n",
    "opt = keras.optimizers.RMSprop(learning_rate=0.0001, decay=1e-6)\n",
    "\n",
    "# Let's train the model using RMSprop\n",
    "model.compile(loss='categorical_crossentropy',\n",
    "  optimizer=opt,\n",
    "  metrics=['accuracy'])\n",
    "x_train = x_train.astype('float32')\n",
    "x_test = x_test.astype('float32')\n",
    "x_train /= 255\n",
    "x_test /= 255\n",
    "if not data_augmentation:\n",
    "  print('Not using data augmentation.')\n",
    "  model.fit(x_train, y_train,\n",
    "      batch_size=batch_size,\n",
    "      epochs=epochs,\n",
    "      validation_data=(x_test, y_test),\n",
    "      shuffle=True)\n",
    "else:\n",
    "  print('Using real-time data augmentation.')\n",
    "  # This will do preprocessing and realtime data augmentation:\n",
    "  datagen = ImageDataGenerator(\n",
    "    featurewise_center=False, # set input mean to 0 over the dataset\n",
    "    samplewise_center=False, # set each sample mean to 0\n",
    "    featurewise_std_normalization=False, # divide inputs by std of the dataset\n",
    "    samplewise_std_normalization=False, # divide each input by its std\n",
    "    zca_whitening=False, # apply ZCA whitening\n",
    "    zca_epsilon=1e-06, # epsilon for ZCA whitening\n",
    "    rotation_range=0, # randomly rotate images in the range (degrees, 0 to 180)\n",
    "    # randomly shift images horizontally (fraction of total width)\n",
    "    width_shift_range=0.1,\n",
    "    # randomly shift images vertically (fraction of total height)\n",
    "    height_shift_range=0.1,\n",
    "    shear_range=0., # set range for random shear\n",
    "    zoom_range=0., # set range for random zoom\n",
    "    channel_shift_range=0., # set range for random channel shifts\n",
    "    # set mode for filling points outside the input boundaries\n",
    "    fill_mode='nearest',\n",
    "    cval=0., # value used for fill_mode = \"constant\"\n",
    "    horizontal_flip=True, # randomly flip images\n",
    "    vertical_flip=False, # randomly flip images\n",
    "    # set rescaling factor (applied before any other transformation)\n",
    "    rescale=None,\n",
    "    # set function that will be applied on each input\n",
    "    preprocessing_function=None,\n",
    "    # image data format, either \"channels_first\" or \"channels_last\"\n",
    "    data_format=None,\n",
    "    # fraction of images reserved for validation (strictly between 0 and 1)\n",
    "    validation_split=0.0)\n",
    "  # Compute quantities required for feature-wise normalization\n",
    "  # (std, mean, and principal components if ZCA whitening is applied).\n",
    "  datagen.fit(x_train)\n",
    "\n",
    "  # Fit the model on the batches generated by datagen.flow().\n",
    "  model.fit_generator(datagen.flow(x_train, y_train,\n",
    "                  batch_size=batch_size),\n",
    "            epochs=epochs,\n",
    "            validation_data=(x_test, y_test),\n",
    "            workers=4)"
   ]
  },
  {
   "cell_type": "markdown",
   "metadata": {
    "id": "9xmliur4x6-m"
   },
   "source": [
    "Save model and weights"
   ]
  },
  {
   "cell_type": "code",
   "execution_count": 9,
   "metadata": {
    "colab": {
     "base_uri": "https://localhost:8080/"
    },
    "id": "mrsrKKTCv46j",
    "outputId": "73b833bf-47c0-4f24-ce44-fa08bba3ea8a"
   },
   "outputs": [
    {
     "name": "stdout",
     "output_type": "stream",
     "text": [
      "Saved trained model at /Users/paterosthodoris/Desktop/MSBA/MSBA_FALL_2023/STAT_6289/saved_models/keras_cifar10_trained_model.h5 \n"
     ]
    }
   ],
   "source": [
    "if not os.path.isdir(save_dir):\n",
    "    os.makedirs(save_dir)\n",
    "model_path = os.path.join(save_dir, model_name)\n",
    "model.save(model_path)\n",
    "print('Saved trained model at %s ' % model_path)"
   ]
  },
  {
   "cell_type": "markdown",
   "metadata": {
    "id": "jIwudEcwx_XJ"
   },
   "source": [
    "Score trained model."
   ]
  },
  {
   "cell_type": "code",
   "execution_count": 10,
   "metadata": {
    "colab": {
     "base_uri": "https://localhost:8080/"
    },
    "id": "UO1CDSJwx-nu",
    "outputId": "4953a98e-e084-412e-b534-e788f226b5e5"
   },
   "outputs": [
    {
     "name": "stdout",
     "output_type": "stream",
     "text": [
      "313/313 [==============================] - 7s 23ms/step - loss: 1.4465 - accuracy: 0.4773\n",
      "Test loss: 1.4465051889419556\n",
      "Test accuracy: 0.4772999882698059\n"
     ]
    }
   ],
   "source": [
    "scores = model.evaluate(x_test, y_test, verbose=1)\n",
    "print('Test loss:', scores[0])\n",
    "print('Test accuracy:', scores[1])"
   ]
  },
  {
   "cell_type": "markdown",
   "metadata": {},
   "source": [
    "# QUESTION 1"
   ]
  },
  {
   "cell_type": "code",
   "execution_count": 13,
   "metadata": {},
   "outputs": [],
   "source": [
    "def sdn_models(hidden_layers):\n",
    "    model=Sequential()\n",
    "    model.add(Flatten(input_shape=x_train.shape[1:]))\n",
    "    \n",
    "    for _ in range(hidden_layers):\n",
    "        model.add(Dense(512))\n",
    "        model.add(Activation('relu'))\n",
    "        model.add(Dropout(0.5))\n",
    "        \n",
    "    model.add(Dense(num_classes))\n",
    "    model.add(Activation('softmax'))\n",
    "    return(model)\n",
    "\n",
    "datagen = ImageDataGenerator(\n",
    "    rotation_range=40,\n",
    "    width_shift_range=0.2,\n",
    "    height_shift_range=0.2,\n",
    "    shear_range=0.2,\n",
    "    zoom_range=0.2,\n",
    "    horizontal_flip=True,\n",
    "    fill_mode='nearest')\n",
    "\n",
    "model.compile(loss='categorical_crossentropy',\n",
    "             optimizer=opt,\n",
    "             metrics=['accuracy'])"
   ]
  },
  {
   "cell_type": "code",
   "execution_count": 16,
   "metadata": {},
   "outputs": [
    {
     "name": "stdout",
     "output_type": "stream",
     "text": [
      "Epoch 1/10\n",
      "98/98 [==============================] - 117s 1s/step - loss: 1.2473 - accuracy: 0.5568 - val_loss: 1.1630 - val_accuracy: 0.5893\n",
      "Epoch 2/10\n",
      "98/98 [==============================] - 102s 1s/step - loss: 1.2300 - accuracy: 0.5655 - val_loss: 1.1783 - val_accuracy: 0.5869\n",
      "Epoch 3/10\n",
      "98/98 [==============================] - 110s 1s/step - loss: 1.2144 - accuracy: 0.5714 - val_loss: 1.1307 - val_accuracy: 0.6022\n",
      "Epoch 4/10\n",
      "98/98 [==============================] - 107s 1s/step - loss: 1.2036 - accuracy: 0.5728 - val_loss: 1.1176 - val_accuracy: 0.6024\n",
      "Epoch 5/10\n",
      "98/98 [==============================] - 107s 1s/step - loss: 1.1892 - accuracy: 0.5808 - val_loss: 1.1191 - val_accuracy: 0.6016\n",
      "Epoch 6/10\n",
      "98/98 [==============================] - 112s 1s/step - loss: 1.1731 - accuracy: 0.5843 - val_loss: 1.1005 - val_accuracy: 0.6109\n",
      "Epoch 7/10\n",
      "98/98 [==============================] - 101s 1s/step - loss: 1.1624 - accuracy: 0.5905 - val_loss: 1.0938 - val_accuracy: 0.6152\n",
      "Epoch 8/10\n",
      "98/98 [==============================] - 95s 967ms/step - loss: 1.1506 - accuracy: 0.5947 - val_loss: 1.0735 - val_accuracy: 0.6230\n",
      "Epoch 9/10\n",
      "98/98 [==============================] - 91s 933ms/step - loss: 1.1381 - accuracy: 0.6006 - val_loss: 1.0739 - val_accuracy: 0.6207\n",
      "Epoch 10/10\n",
      "98/98 [==============================] - 94s 964ms/step - loss: 1.1289 - accuracy: 0.6033 - val_loss: 1.0736 - val_accuracy: 0.6237\n"
     ]
    }
   ],
   "source": [
    "#CNN\n",
    "cnn_history = model.fit(x_train, y_train,\n",
    "                        batch_size=batch_size,\n",
    "                        epochs=epochs,\n",
    "                        validation_data=(x_test, y_test),\n",
    "                        shuffle=True)\n",
    "#SDN\n",
    "hidden_layers_list = [0, 1, 2, 3, 4]\n",
    "history_sdn = []\n",
    "\n",
    "for hidden_layers in hidden_layers_list:\n",
    "    sdn_model = sdn_models(hidden_layers)\n",
    "    sdn_model.compile(loss='categorical_crossentropy',\n",
    "                        optimizer=opt,\n",
    "                        metrics=['accuracy'])\n",
    "\n",
    "    history = sdn_model.fit(x_train, y_train,\n",
    "                              batch_size=batch_size,\n",
    "                              epochs=epochs,\n",
    "                              validation_data=(x_test, y_test),\n",
    "                              shuffle=True,\n",
    "                              verbose=0)\n",
    "    history_sdn.append(history)"
   ]
  },
  {
   "cell_type": "code",
   "execution_count": 23,
   "metadata": {},
   "outputs": [
    {
     "data": {
      "image/png": "[encoded data removed]",
      "text/plain": [
       "<Figure size 720x432 with 1 Axes>"
      ]
     },
     "metadata": {
      "needs_background": "light"
     },
     "output_type": "display_data"
    }
   ],
   "source": [
    "import matplotlib.pyplot as plt\n",
    "plt.figure(figsize=(10, 6))\n",
    "plt.xlabel('# OF EPOCHS')\n",
    "plt.ylabel('TEST ACC')\n",
    "plt.title('CNN VS SDN')\n",
    "\n",
    "# Plot the CNN accuracy\n",
    "plt.plot(history_cnn.history['val_accuracy'], label='CNN', linestyle='-', marker='o', color='blue')\n",
    "\n",
    "# Define a list of line styles and markers for the Dense models\n",
    "line_styles = ['dashed', 'dashdot', 'dotted', 'solid']\n",
    "markers = ['x', 's', 'D', '^']\n",
    "\n",
    "# Loop through the Dense models and plot their accuracy\n",
    "for i, num_hidden_layers in enumerate(num_hidden_layers_list):\n",
    "    line_style = line_styles[i % len(line_styles)]\n",
    "    marker = markers[i % len(markers)]\n",
    "    label = f'SDN with {num_hidden_layers} layers'\n",
    "    color = plt.cm.tab20(i)  # Use a different color for each line\n",
    "    plt.plot(history_sdn[i].history['val_accuracy'], label=label, linestyle=line_style, marker=marker, color=color)\n",
    "\n",
    "plt.legend()\n",
    "plt.grid(True)\n",
    "plt.show()"
   ]
  },
  {
   "cell_type": "markdown",
   "metadata": {},
   "source": [
    "## Explanation"
   ]
  },
  {
   "cell_type": "markdown",
   "metadata": {},
   "source": [
    "As expected, the Convolutional Neural Network performs better than the Simple Dense Networks. The structure of CNN models allows them to learn hierarchical features from the data. The addition of convolutional layers in a model allows for weight sharing and reducing the number of parameters which helps avoid issues such as overfitting. Additionally, CNN models can become subjects to regularization. In our example, our model uses Dropout which is a common regularization technique to prevent overfitting. "
   ]
  },
  {
   "cell_type": "markdown",
   "metadata": {},
   "source": [
    "# QUESTION 2 "
   ]
  },
  {
   "cell_type": "code",
   "execution_count": 25,
   "metadata": {},
   "outputs": [
    {
     "name": "stdout",
     "output_type": "stream",
     "text": [
      "Epoch 1/10\n",
      "98/98 [==============================] - 107s 1s/step - loss: 2.3832 - accuracy: 0.1035 - val_loss: 2.3057 - val_accuracy: 0.1000\n",
      "Epoch 2/10\n",
      "98/98 [==============================] - 113s 1s/step - loss: 2.3072 - accuracy: 0.0999 - val_loss: 2.3035 - val_accuracy: 0.1000\n",
      "Epoch 3/10\n",
      "98/98 [==============================] - 109s 1s/step - loss: 2.3044 - accuracy: 0.1005 - val_loss: 2.3029 - val_accuracy: 0.1000\n",
      "Epoch 4/10\n",
      "98/98 [==============================] - 119s 1s/step - loss: 2.3037 - accuracy: 0.1007 - val_loss: 2.3028 - val_accuracy: 0.1000\n",
      "Epoch 5/10\n",
      "98/98 [==============================] - 109s 1s/step - loss: 2.3037 - accuracy: 0.0985 - val_loss: 2.3027 - val_accuracy: 0.1000\n",
      "Epoch 6/10\n",
      "98/98 [==============================] - 110s 1s/step - loss: 2.3033 - accuracy: 0.1000 - val_loss: 2.3027 - val_accuracy: 0.1000\n",
      "Epoch 7/10\n",
      "98/98 [==============================] - 106s 1s/step - loss: 2.3035 - accuracy: 0.1007 - val_loss: 2.3026 - val_accuracy: 0.1000\n",
      "Epoch 8/10\n",
      "98/98 [==============================] - 99s 1s/step - loss: 2.3033 - accuracy: 0.0973 - val_loss: 2.3027 - val_accuracy: 0.1000\n",
      "Epoch 9/10\n",
      "98/98 [==============================] - 100s 1s/step - loss: 2.3033 - accuracy: 0.0980 - val_loss: 2.3026 - val_accuracy: 0.1000\n",
      "Epoch 10/10\n",
      "98/98 [==============================] - 107s 1s/step - loss: 2.3031 - accuracy: 0.1010 - val_loss: 2.3027 - val_accuracy: 0.1000\n"
     ]
    }
   ],
   "source": [
    "#SIGMOID\n",
    "sigmoid = Sequential()\n",
    "sigmoid.add(Conv2D(32, (3, 3), padding = 'same', input_shape=x_train.shape[1:]))\n",
    "sigmoid.add(Activation('sigmoid'))\n",
    "sigmoid.add(Conv2D(32, (3, 3)))\n",
    "sigmoid.add(Activation('sigmoid'))\n",
    "sigmoid.add(MaxPooling2D(pool_size=(2, 2)))\n",
    "sigmoid.add(Dropout(0.25))\n",
    "\n",
    "sigmoid.add(Conv2D(64, (3, 3), padding = 'same'))\n",
    "sigmoid.add(Activation('sigmoid'))\n",
    "sigmoid.add(Conv2D(64, (3, 3)))\n",
    "sigmoid.add(Activation('sigmoid'))\n",
    "sigmoid.add(MaxPooling2D(pool_size=(2, 2)))\n",
    "sigmoid.add(Dropout(0.25))\n",
    "\n",
    "sigmoid.add(Flatten())\n",
    "sigmoid.add(Dense(512))\n",
    "sigmoid.add(Activation('sigmoid'))\n",
    "sigmoid.add(Dropout(0.5))\n",
    "sigmoid.add(Dense(num_classes))\n",
    "sigmoid.add(Activation('softmax'))\n",
    "\n",
    "opt = keras.optimizers.RMSprop(learning_rate=0.0001, decay=1e-6)\n",
    "sigmoid.compile(loss='categorical_crossentropy',\n",
    "                      optimizer=opt,\n",
    "                      metrics=['accuracy'])\n",
    "\n",
    "sigmoid_train = sigmoid.fit(x_train, y_train,\n",
    "                                  batch_size=batch_size,\n",
    "                                  epochs=epochs,\n",
    "                                  validation_data=(x_test, y_test),\n",
    "                                  shuffle=True)"
   ]
  },
  {
   "cell_type": "code",
   "execution_count": null,
   "metadata": {},
   "outputs": [
    {
     "name": "stdout",
     "output_type": "stream",
     "text": [
      "Epoch 1/10\n",
      "98/98 [==============================] - 102s 1s/step - loss: 2.1140 - accuracy: 0.2160 - val_loss: 1.9048 - val_accuracy: 0.3310\n",
      "Epoch 2/10\n",
      "98/98 [==============================] - 105s 1s/step - loss: 1.8572 - accuracy: 0.3278 - val_loss: 1.7423 - val_accuracy: 0.3815\n",
      "Epoch 3/10\n",
      "98/98 [==============================] - 97s 987ms/step - loss: 1.7455 - accuracy: 0.3689 - val_loss: 1.6459 - val_accuracy: 0.4118\n",
      "Epoch 4/10\n",
      "98/98 [==============================] - 103s 1s/step - loss: 1.6751 - accuracy: 0.3944 - val_loss: 1.5850 - val_accuracy: 0.4286\n",
      "Epoch 5/10\n",
      "98/98 [==============================] - 105s 1s/step - loss: 1.6201 - accuracy: 0.4134 - val_loss: 1.5285 - val_accuracy: 0.4517\n",
      "Epoch 6/10\n",
      "85/98 [=========================>....] - ETA: 12s - loss: 1.5746 - accuracy: 0.4310"
     ]
    }
   ],
   "source": [
    "#RELU\n",
    "relu = Sequential()\n",
    "relu.add(Conv2D(32, (3, 3), padding='same',\n",
    "    input_shape=x_train.shape[1:]))\n",
    "relu.add(Activation('relu'))\n",
    "relu.add(Conv2D(32, (3, 3)))\n",
    "relu.add(Activation('relu'))\n",
    "relu.add(MaxPooling2D(pool_size=(2, 2)))\n",
    "relu.add(Dropout(0.25))\n",
    "\n",
    "relu.add(Conv2D(64, (3, 3), padding='same'))\n",
    "relu.add(Activation('relu'))\n",
    "relu.add(Conv2D(64, (3, 3)))\n",
    "relu.add(Activation('relu'))\n",
    "relu.add(MaxPooling2D(pool_size=(2, 2)))\n",
    "relu.add(Dropout(0.25))\n",
    "\n",
    "relu.add(Flatten())\n",
    "relu.add(Dense(512))\n",
    "relu.add(Activation('relu'))\n",
    "relu.add(Dropout(0.5))\n",
    "relu.add(Dense(num_classes))\n",
    "relu.add(Activation('softmax'))\n",
    "\n",
    "opt = keras.optimizers.RMSprop(learning_rate=0.0001, decay=1e-6)\n",
    "relu.compile(loss='categorical_crossentropy',\n",
    "                      optimizer=opt,\n",
    "                      metrics=['accuracy'])\n",
    "\n",
    "relu_train = relu.fit(x_train, y_train,\n",
    "                                  batch_size=batch_size,\n",
    "                                  epochs=epochs,\n",
    "                                  validation_data=(x_test, y_test),\n",
    "                                  shuffle=True)"
   ]
  },
  {
   "cell_type": "code",
   "execution_count": null,
   "metadata": {},
   "outputs": [],
   "source": [
    "import matplotlib.pyplot as plt\n",
    "\n",
    "# Create a figure and axis\n",
    "fig, ax = plt.subplots(figsize=(10, 6))\n",
    "\n",
    "# Plot training accuracy for ReLU and Sigmoid\n",
    "ax.plot(sigmoid_train.history['accuracy'], label='Sigmoid', linestyle='dashed', marker='o', color='orange')\n",
    "ax.plot(relu_train.history['accuracy'], label='ReLU', linestyle='dotted', marker='x', color='blue')\n",
    "\n",
    "\n",
    "# Set labels and title\n",
    "ax.set_xlabel('# OF EPOCHS')\n",
    "ax.set_ylabel('TRAIN ACC')\n",
    "ax.set_title('RELU VS SIGMOID TRAIN ACC')\n",
    "\n",
    "# Add a legend\n",
    "ax.legend()\n",
    "\n",
    "# Add a grid\n",
    "ax.grid(True)\n",
    "\n",
    "# Show the plot\n",
    "plt.show()"
   ]
  },
  {
   "cell_type": "code",
   "execution_count": null,
   "metadata": {},
   "outputs": [],
   "source": [
    "import matplotlib.pyplot as plt\n",
    "\n",
    "# Create a figure and axis\n",
    "fig, ax = plt.subplots(figsize=(10, 6))\n",
    "\n",
    "# Plot training accuracy for ReLU and Sigmoid\n",
    "ax.plot(sigmoid_train.history['val_accuracy'], label='Sigmoid', linestyle='dashed', marker='o', color='orange')\n",
    "ax.plot(relu_train.history['val_accuracy'], label='ReLU', linestyle='dotted', marker='x', color='blue')\n",
    "\n",
    "\n",
    "# Set labels and title\n",
    "ax.set_xlabel('# OF EPOCHS')\n",
    "ax.set_ylabel('TRAIN ACC')\n",
    "ax.set_title('RELU VS SIGMOID VALIDATION ACC')\n",
    "\n",
    "# Add a legend\n",
    "ax.legend()\n",
    "\n",
    "# Add a grid\n",
    "ax.grid(True)\n",
    "\n",
    "# Show the plot\n",
    "plt.show()"
   ]
  },
  {
   "cell_type": "code",
   "execution_count": null,
   "metadata": {},
   "outputs": [],
   "source": [
    "if not os.path.isdir(save_dir):\n",
    "    os.makedirs(save_dir)\n",
    "model_path = os.path.join(save_dir, model_name)\n",
    "model.save(model_path)\n",
    "print('Saved trained model at %s ' % model_path)"
   ]
  },
  {
   "cell_type": "code",
   "execution_count": null,
   "metadata": {},
   "outputs": [],
   "source": [
    "scores = sigmoid_model.evaluate(x_test, y_test, verbose=1)\n",
    "print('Test loss:', scores[0])\n",
    "print('Test accuracy:', scores[1])"
   ]
  },
  {
   "cell_type": "markdown",
   "metadata": {},
   "source": [
    "## Explanation"
   ]
  },
  {
   "cell_type": "markdown",
   "metadata": {},
   "source": [
    "When comparing the performance between the ReLu model and the Sigmoid model, we can see that the ReLu model performs better. This is not surprising, taking into consideration that ReLu is generally considered a better choice when it comes to image classification tasks. The primary explanation for that is that the properties of ReLU  such as the avoidance of vanishing gradients enable the neural network to learn and represent image features more effectively, leading to higher classification accuracy."
   ]
  },
  {
   "cell_type": "markdown",
   "metadata": {},
   "source": [
    "# QUESTION 3"
   ]
  },
  {
   "cell_type": "markdown",
   "metadata": {},
   "source": [
    "## No Dropout, No Data Augmentation"
   ]
  },
  {
   "cell_type": "code",
   "execution_count": null,
   "metadata": {},
   "outputs": [],
   "source": [
    "batch_size = 512\n",
    "num_classes = 10\n",
    "epochs = 25\n",
    "data_augmentation = False\n",
    "num_predictions = 20\n",
    "save_dir = os.path.join(os.getcwd(), 'saved_models')\n",
    "model_name = 'keras_cifar10_trained_model.h5'"
   ]
  },
  {
   "cell_type": "code",
   "execution_count": null,
   "metadata": {},
   "outputs": [],
   "source": [
    "# The data, split between train and test sets:\n",
    "(x_train, y_train), (x_test, y_test) = cifar10.load_data()\n",
    "print('x_train shape:', x_train.shape)\n",
    "print(x_train.shape[0], 'train samples')\n",
    "print(x_test.shape[0], 'test samples')\n",
    "# Convert class vectors to binary class matrices.\n",
    "y_train = keras.utils.to_categorical(y_train, num_classes)\n",
    "y_test = keras.utils.to_categorical(y_test, num_classes)"
   ]
  },
  {
   "cell_type": "code",
   "execution_count": null,
   "metadata": {},
   "outputs": [],
   "source": [
    "model_1 = Sequential()\n",
    "model_1.add(Conv2D(32, (3, 3), padding='same',\n",
    "    input_shape=x_train.shape[1:]))\n",
    "model_1.add(Activation('relu'))\n",
    "model_1.add(Conv2D(32, (3, 3)))\n",
    "model_1.add(Activation('relu'))\n",
    "model_1.add(MaxPooling2D(pool_size=(2, 2)))\n",
    "\n",
    "model_1.add(Conv2D(64, (3, 3), padding='same'))\n",
    "model_1.add(Activation('relu'))\n",
    "model_1.add(Conv2D(64, (3, 3)))\n",
    "model_1.add(Activation('relu'))\n",
    "model_1.add(MaxPooling2D(pool_size=(2, 2)))\n",
    "\n",
    "model_1.add(Flatten())\n",
    "model_1.add(Dense(512))\n",
    "model_1.add(Activation('relu'))\n",
    "model_1.add(Dense(num_classes))\n",
    "model_1.add(Activation('softmax'))"
   ]
  },
  {
   "cell_type": "code",
   "execution_count": null,
   "metadata": {},
   "outputs": [],
   "source": [
    "# initiate RMSprop optimizer\n",
    "opt = keras.optimizers.legacy.RMSprop(learning_rate=0.0001, decay=1e-6)\n",
    "\n",
    "# Let's train the model using RMSprop\n",
    "model_1.compile(loss='categorical_crossentropy',\n",
    "  optimizer=opt,\n",
    "  metrics=['accuracy'])\n",
    "x_train = x_train.astype('float32')\n",
    "x_test = x_test.astype('float32')\n",
    "x_train /= 255\n",
    "x_test /= 255\n",
    "if not data_augmentation:\n",
    "  print('Not using data augmentation.')\n",
    "  model_1_train_nda = model_1.fit(x_train, y_train,\n",
    "      batch_size=batch_size,\n",
    "      epochs=epochs,\n",
    "      validation_data=(x_test, y_test),\n",
    "      shuffle=True)\n",
    "else:\n",
    "  print('Using real-time data augmentation.')\n",
    "  # This will do preprocessing and realtime data augmentation:\n",
    "  datagen = ImageDataGenerator(\n",
    "    featurewise_center=False, # set input mean to 0 over the dataset\n",
    "    samplewise_center=False, # set each sample mean to 0\n",
    "    featurewise_std_normalization=False, # divide inputs by std of the dataset\n",
    "    samplewise_std_normalization=False, # divide each input by its std\n",
    "    zca_whitening=False, # apply ZCA whitening\n",
    "    zca_epsilon=1e-06, # epsilon for ZCA whitening\n",
    "    rotation_range=0, # randomly rotate images in the range (degrees, 0 to 180)\n",
    "    # randomly shift images horizontally (fraction of total width)\n",
    "    width_shift_range=0.1,\n",
    "    # randomly shift images vertically (fraction of total height)\n",
    "    height_shift_range=0.1,\n",
    "    shear_range=0., # set range for random shear\n",
    "    zoom_range=0., # set range for random zoom\n",
    "    channel_shift_range=0., # set range for random channel shifts\n",
    "    # set mode for filling points outside the input boundaries\n",
    "    fill_mode='nearest',\n",
    "    cval=0., # value used for fill_mode = \"constant\"\n",
    "    horizontal_flip=True, # randomly flip images\n",
    "    vertical_flip=False, # randomly flip images\n",
    "    # set rescaling factor (applied before any other transformation)\n",
    "    rescale=None,\n",
    "    # set function that will be applied on each input\n",
    "    preprocessing_function=None,\n",
    "    # image data format, either \"channels_first\" or \"channels_last\"\n",
    "    data_format=None,\n",
    "    # fraction of images reserved for validation (strictly between 0 and 1)\n",
    "    validation_split=0.0)\n",
    "  # Compute quantities required for feature-wise normalization\n",
    "  # (std, mean, and principal components if ZCA whitening is applied).\n",
    "  datagen.fit(x_train)\n",
    "\n",
    "  # Fit the model on the batches generated by datagen.flow().\n",
    " model_1_train = model_1.fit_generator(datagen.flow(x_train, y_train,\n",
    "                  batch_size=batch_size),\n",
    "            epochs=epochs,\n",
    "            validation_data=(x_test, y_test),\n",
    "            workers=4)"
   ]
  },
  {
   "cell_type": "markdown",
   "metadata": {},
   "source": [
    "## Dropout, Data Augmentation"
   ]
  },
  {
   "cell_type": "code",
   "execution_count": null,
   "metadata": {},
   "outputs": [],
   "source": [
    "batch_size = 512\n",
    "num_classes = 10\n",
    "epochs = 25\n",
    "data_augmentation = True\n",
    "num_predictions = 20\n",
    "save_dir = os.path.join(os.getcwd(), 'saved_models')\n",
    "model_name = 'keras_cifar10_trained_model.h5'"
   ]
  },
  {
   "cell_type": "code",
   "execution_count": null,
   "metadata": {},
   "outputs": [],
   "source": [
    "# The data, split between train and test sets:\n",
    "(x_train, y_train), (x_test, y_test) = cifar10.load_data()\n",
    "print('x_train shape:', x_train.shape)\n",
    "print(x_train.shape[0], 'train samples')\n",
    "print(x_test.shape[0], 'test samples')\n",
    "# Convert class vectors to binary class matrices.\n",
    "y_train = keras.utils.to_categorical(y_train, num_classes)\n",
    "y_test = keras.utils.to_categorical(y_test, num_classes)"
   ]
  },
  {
   "cell_type": "code",
   "execution_count": null,
   "metadata": {},
   "outputs": [],
   "source": [
    "model_2 = Sequential()\n",
    "model_2.add(Conv2D(32, (3, 3), padding='same',\n",
    "    input_shape=x_train.shape[1:]))\n",
    "model_2.add(Activation('relu'))\n",
    "model_2.add(Conv2D(32, (3, 3)))\n",
    "model_2.add(Activation('relu'))\n",
    "model_2.add(MaxPooling2D(pool_size=(2, 2)))\n",
    "model_2.add(Dropout(0.25))\n",
    "\n",
    "model_2.add(Conv2D(64, (3, 3), padding='same'))\n",
    "model_2.add(Activation('relu'))\n",
    "model_2.add(Conv2D(64, (3, 3)))\n",
    "model_2.add(Activation('relu'))\n",
    "model_2.add(MaxPooling2D(pool_size=(2, 2)))\n",
    "model_2.add(Dropout(0.25))\n",
    "\n",
    "model_2.add(Flatten())\n",
    "model_2.add(Dense(512))\n",
    "model_2.add(Activation('relu'))\n",
    "model_2.add(Dropout(0.5))\n",
    "model_2.add(Dense(num_classes))\n",
    "model_2.add(Activation('softmax'))"
   ]
  },
  {
   "cell_type": "code",
   "execution_count": null,
   "metadata": {},
   "outputs": [],
   "source": [
    "# initiate RMSprop optimizer\n",
    "opt = keras.optimizers.legacy.RMSprop(learning_rate=0.0001, decay=1e-6)\n",
    "\n",
    "# Let's train the model using RMSprop\n",
    "model_2.compile(loss='categorical_crossentropy',\n",
    "  optimizer=opt,\n",
    "  metrics=['accuracy'])\n",
    "x_train = x_train.astype('float32')\n",
    "x_test = x_test.astype('float32')\n",
    "x_train /= 255\n",
    "x_test /= 255\n",
    "if not data_augmentation:\n",
    "  print('Not using data augmentation.')\n",
    "  model_2_train_nda = model_2.fit(x_train, y_train,\n",
    "      batch_size=batch_size,\n",
    "      epochs=epochs,\n",
    "      validation_data=(x_test, y_test),\n",
    "      shuffle=True)\n",
    "else:\n",
    "  print('Using real-time data augmentation.')\n",
    "  # This will do preprocessing and realtime data augmentation:\n",
    "  datagen = ImageDataGenerator(\n",
    "    featurewise_center=False, # set input mean to 0 over the dataset\n",
    "    samplewise_center=False, # set each sample mean to 0\n",
    "    featurewise_std_normalization=False, # divide inputs by std of the dataset\n",
    "    samplewise_std_normalization=False, # divide each input by its std\n",
    "    zca_whitening=False, # apply ZCA whitening\n",
    "    zca_epsilon=1e-06, # epsilon for ZCA whitening\n",
    "    rotation_range=0, # randomly rotate images in the range (degrees, 0 to 180)\n",
    "    # randomly shift images horizontally (fraction of total width)\n",
    "    width_shift_range=0.1,\n",
    "    # randomly shift images vertically (fraction of total height)\n",
    "    height_shift_range=0.1,\n",
    "    shear_range=0., # set range for random shear\n",
    "    zoom_range=0., # set range for random zoom\n",
    "    channel_shift_range=0., # set range for random channel shifts\n",
    "    # set mode for filling points outside the input boundaries\n",
    "    fill_mode='nearest',\n",
    "    cval=0., # value used for fill_mode = \"constant\"\n",
    "    horizontal_flip=True, # randomly flip images\n",
    "    vertical_flip=False, # randomly flip images\n",
    "    # set rescaling factor (applied before any other transformation)\n",
    "    rescale=None,\n",
    "    # set function that will be applied on each input\n",
    "    preprocessing_function=None,\n",
    "    # image data format, either \"channels_first\" or \"channels_last\"\n",
    "    data_format=None,\n",
    "    # fraction of images reserved for validation (strictly between 0 and 1)\n",
    "    validation_split=0.0)\n",
    "  # Compute quantities required for feature-wise normalization\n",
    "  # (std, mean, and principal components if ZCA whitening is applied).\n",
    "  datagen.fit(x_train)\n",
    "\n",
    "  # Fit the model on the batches generated by datagen.flow().\n",
    "  model_2_train = model_2.fit_generator(datagen.flow(x_train, y_train,\n",
    "                  batch_size=batch_size),\n",
    "            epochs=epochs,\n",
    "            validation_data=(x_test, y_test),\n",
    "            workers=4)"
   ]
  },
  {
   "cell_type": "markdown",
   "metadata": {},
   "source": [
    "## No Dropout, Data Augmentation"
   ]
  },
  {
   "cell_type": "code",
   "execution_count": null,
   "metadata": {},
   "outputs": [],
   "source": [
    "batch_size = 512\n",
    "num_classes = 10\n",
    "epochs = 25 \n",
    "data_augmentation = True\n",
    "num_predictions = 20\n",
    "save_dir = os.path.join(os.getcwd(), 'saved_models')\n",
    "model_name = 'keras_cifar10_trained_model.h5'"
   ]
  },
  {
   "cell_type": "code",
   "execution_count": null,
   "metadata": {},
   "outputs": [],
   "source": [
    "# The data, split between train and test sets:\n",
    "(x_train, y_train), (x_test, y_test) = cifar10.load_data()\n",
    "print('x_train shape:', x_train.shape)\n",
    "print(x_train.shape[0], 'train samples')\n",
    "print(x_test.shape[0], 'test samples')\n",
    "# Convert class vectors to binary class matrices.\n",
    "y_train = keras.utils.to_categorical(y_train, num_classes)\n",
    "y_test = keras.utils.to_categorical(y_test, num_classes)"
   ]
  },
  {
   "cell_type": "code",
   "execution_count": null,
   "metadata": {},
   "outputs": [],
   "source": [
    "model_3 = Sequential()\n",
    "model_3.add(Conv2D(32, (3, 3), padding='same',\n",
    "    input_shape=x_train.shape[1:]))\n",
    "model_3.add(Activation('relu'))\n",
    "model_3.add(Conv2D(32, (3, 3)))\n",
    "model_3.add(Activation('relu'))\n",
    "model_3.add(MaxPooling2D(pool_size=(2, 2)))\n",
    "\n",
    "model_3.add(Conv2D(64, (3, 3), padding='same'))\n",
    "model_3.add(Activation('relu'))\n",
    "model_3.add(Conv2D(64, (3, 3)))\n",
    "model_3.add(Activation('relu'))\n",
    "model_3.add(MaxPooling2D(pool_size=(2, 2)))\n",
    "\n",
    "model_3.add(Flatten())\n",
    "model_3.add(Dense(512))\n",
    "model_3.add(Activation('relu'))\n",
    "model_3.add(Dense(num_classes))\n",
    "model_3.add(Activation('softmax'))"
   ]
  },
  {
   "cell_type": "code",
   "execution_count": null,
   "metadata": {},
   "outputs": [],
   "source": [
    "# initiate RMSprop optimizer\n",
    "opt = keras.optimizers.legacy.RMSprop(learning_rate=0.0001, decay=1e-6)\n",
    "\n",
    "# Let's train the model using RMSprop\n",
    "model_3.compile(loss='categorical_crossentropy',\n",
    "  optimizer=opt,\n",
    "  metrics=['accuracy'])\n",
    "x_train = x_train.astype('float32')\n",
    "x_test = x_test.astype('float32')\n",
    "x_train /= 255\n",
    "x_test /= 255\n",
    "if not data_augmentation:\n",
    "  print('Not using data augmentation.')\n",
    "  model_3.fit(x_train, y_train,\n",
    "      batch_size=batch_size,\n",
    "      epochs=epochs,\n",
    "      validation_data=(x_test, y_test),\n",
    "      shuffle=True)\n",
    "else:\n",
    "  print('Using real-time data augmentation.')\n",
    "  # This will do preprocessing and realtime data augmentation:\n",
    "  datagen = ImageDataGenerator(\n",
    "    featurewise_center=False, # set input mean to 0 over the dataset\n",
    "    samplewise_center=False, # set each sample mean to 0\n",
    "    featurewise_std_normalization=False, # divide inputs by std of the dataset\n",
    "    samplewise_std_normalization=False, # divide each input by its std\n",
    "    zca_whitening=False, # apply ZCA whitening\n",
    "    zca_epsilon=1e-06, # epsilon for ZCA whitening\n",
    "    rotation_range=0, # randomly rotate images in the range (degrees, 0 to 180)\n",
    "    # randomly shift images horizontally (fraction of total width)\n",
    "    width_shift_range=0.1,\n",
    "    # randomly shift images vertically (fraction of total height)\n",
    "    height_shift_range=0.1,\n",
    "    shear_range=0., # set range for random shear\n",
    "    zoom_range=0., # set range for random zoom\n",
    "    channel_shift_range=0., # set range for random channel shifts\n",
    "    # set mode for filling points outside the input boundaries\n",
    "    fill_mode='nearest',\n",
    "    cval=0., # value used for fill_mode = \"constant\"\n",
    "    horizontal_flip=True, # randomly flip images\n",
    "    vertical_flip=False, # randomly flip images\n",
    "    # set rescaling factor (applied before any other transformation)\n",
    "    rescale=None,\n",
    "    # set function that will be applied on each input\n",
    "    preprocessing_function=None,\n",
    "    # image data format, either \"channels_first\" or \"channels_last\"\n",
    "    data_format=None,\n",
    "    # fraction of images reserved for validation (strictly between 0 and 1)\n",
    "    validation_split=0.0)\n",
    "  # Compute quantities required for feature-wise normalization\n",
    "  # (std, mean, and principal components if ZCA whitening is applied).\n",
    "  datagen.fit(x_train)\n",
    "\n",
    "  # Fit the model on the batches generated by datagen.flow().\n",
    "  model_3_train = model_3.fit_generator(datagen.flow(x_train, y_train,\n",
    "                  batch_size=batch_size),\n",
    "            epochs=epochs, #add callback callbacks=[callback]\n",
    "            validation_data=(x_test, y_test),\n",
    "            workers=4)"
   ]
  },
  {
   "cell_type": "markdown",
   "metadata": {},
   "source": [
    "## Dropout, No Data Augmentation"
   ]
  },
  {
   "cell_type": "code",
   "execution_count": null,
   "metadata": {},
   "outputs": [],
   "source": [
    "batch_size = 512\n",
    "num_classes = 10\n",
    "epochs = 25 \n",
    "data_augmentation = False \n",
    "num_predictions = 20\n",
    "save_dir = os.path.join(os.getcwd(), 'saved_models')\n",
    "model_name = 'keras_cifar10_trained_model.h5'"
   ]
  },
  {
   "cell_type": "code",
   "execution_count": null,
   "metadata": {},
   "outputs": [],
   "source": [
    "# The data, split between train and test sets:\n",
    "(x_train, y_train), (x_test, y_test) = cifar10.load_data()\n",
    "print('x_train shape:', x_train.shape)\n",
    "print(x_train.shape[0], 'train samples')\n",
    "print(x_test.shape[0], 'test samples')\n",
    "# Convert class vectors to binary class matrices.\n",
    "y_train = keras.utils.to_categorical(y_train, num_classes)\n",
    "y_test = keras.utils.to_categorical(y_test, num_classes)"
   ]
  },
  {
   "cell_type": "code",
   "execution_count": null,
   "metadata": {},
   "outputs": [],
   "source": [
    "model_4 = Sequential()\n",
    "model_4.add(Conv2D(32, (3, 3), padding='same',\n",
    "    input_shape=x_train.shape[1:]))\n",
    "model_4.add(Activation('relu'))\n",
    "model_4.add(Conv2D(32, (3, 3)))\n",
    "model_4.add(Activation('relu'))\n",
    "model_4.add(MaxPooling2D(pool_size=(2, 2)))\n",
    "model_4.add(Dropout(0.25))\n",
    "\n",
    "model_4.add(Conv2D(64, (3, 3), padding='same'))\n",
    "model_4.add(Activation('relu'))\n",
    "model_4.add(Conv2D(64, (3, 3)))\n",
    "model_4.add(Activation('relu'))\n",
    "model_4.add(MaxPooling2D(pool_size=(2, 2)))\n",
    "model_4.add(Dropout(0.25))\n",
    "\n",
    "model_4.add(Flatten())\n",
    "model_4.add(Dense(512))\n",
    "model_4.add(Activation('relu'))\n",
    "model_4.add(Dropout(0.5))\n",
    "model_4.add(Dense(num_classes))\n",
    "model_4.add(Activation('softmax'))"
   ]
  },
  {
   "cell_type": "code",
   "execution_count": null,
   "metadata": {},
   "outputs": [],
   "source": [
    "# initiate RMSprop optimizer\n",
    "opt = keras.optimizers.legacy.RMSprop(learning_rate=0.0001, decay=1e-6)\n",
    "\n",
    "# Let's train the model using RMSprop\n",
    "model_4.compile(loss='categorical_crossentropy',\n",
    "  optimizer=opt,\n",
    "  metrics=['accuracy'])\n",
    "x_train = x_train.astype('float32')\n",
    "x_test = x_test.astype('float32')\n",
    "x_train /= 255\n",
    "x_test /= 255\n",
    "\n",
    "if not data_augmentation:\n",
    "  print('Not using data augmentation.')\n",
    "  model_4_train_nda = model_4.fit(x_train, y_train,\n",
    "      batch_size=batch_size,\n",
    "      epochs=epochs,\n",
    "      validation_data=(x_test, y_test),\n",
    "      shuffle=True)\n",
    "else:\n",
    "  print('Using real-time data augmentation.')\n",
    "  # This will do preprocessing and realtime data augmentation:\n",
    "  datagen = ImageDataGenerator(\n",
    "    featurewise_center=False, # set input mean to 0 over the dataset\n",
    "    samplewise_center=False, # set each sample mean to 0\n",
    "    featurewise_std_normalization=False, # divide inputs by std of the dataset\n",
    "    samplewise_std_normalization=False, # divide each input by its std\n",
    "    zca_whitening=False, # apply ZCA whitening\n",
    "    zca_epsilon=1e-06, # epsilon for ZCA whitening\n",
    "    rotation_range=0, # randomly rotate images in the range (degrees, 0 to 180)\n",
    "    # randomly shift images horizontally (fraction of total width)\n",
    "    width_shift_range=0.1,\n",
    "    # randomly shift images vertically (fraction of total height)\n",
    "    height_shift_range=0.1,\n",
    "    shear_range=0., # set range for random shear\n",
    "    zoom_range=0., # set range for random zoom\n",
    "    channel_shift_range=0., # set range for random channel shifts\n",
    "    # set mode for filling points outside the input boundaries\n",
    "    fill_mode='nearest',\n",
    "    cval=0., # value used for fill_mode = \"constant\"\n",
    "    horizontal_flip=True, # randomly flip images\n",
    "    vertical_flip=False, # randomly flip images\n",
    "    # set rescaling factor (applied before any other transformation)\n",
    "    rescale=None,\n",
    "    # set function that will be applied on each input\n",
    "    preprocessing_function=None,\n",
    "    # image data format, either \"channels_first\" or \"channels_last\"\n",
    "    data_format=None,\n",
    "    # fraction of images reserved for validation (strictly between 0 and 1)\n",
    "    validation_split=0.0)\n",
    "  # Compute quantities required for feature-wise normalization\n",
    "  # (std, mean, and principal components if ZCA whitening is applied).\n",
    "  datagen.fit(x_train)\n",
    "\n",
    "  # Fit the model on the batches generated by datagen.flow().\n",
    "  model_4_train = model_4.fit_generator(datagen.flow(x_train, y_train,\n",
    "                  batch_size=batch_size),\n",
    "            epochs=epochs,\n",
    "            validation_data=(x_test, y_test),\n",
    "            workers=4)"
   ]
  },
  {
   "cell_type": "code",
   "execution_count": null,
   "metadata": {},
   "outputs": [],
   "source": []
  },
  {
   "cell_type": "code",
   "execution_count": null,
   "metadata": {},
   "outputs": [],
   "source": [
    " #Plotting the validation accuracy comparison between models\n",
    "import matplotlib.pyplot as plt\n",
    "\n",
    "plt.figure(figsize=(10, 6))\n",
    "plt.xlabel('Epochs')\n",
    "plt.ylabel('Validation Accuracy')\n",
    "plt.title('Validation Accuracy Comparison (Question 3)')\n",
    "\n",
    "plt.plot(model_2_train.history['val_accuracy'], label='With Data Augmentation, With Drop Off', linestyle='dashed', marker='o')\n",
    "plt.plot(model_3_train.history['val_accuracy'], label='With Data Augmentation, With Drop Off', linestyle='dashed', marker='o')\n",
    "plt.plot(model_1_train_nda.history['val_accuracy'], label='Without Data Augmentation, Without Drop Off', linestyle='dashed', marker='o')\n",
    "plt.plot(model_4_train_nda.history['val_accuracy'], label='Without Data Augmentation, With Drop Off', linestyle='dashed', marker='o')\n",
    "\n",
    "plt.legend()\n",
    "plt.grid()\n",
    "plt.show()"
   ]
  },
  {
   "cell_type": "code",
   "execution_count": null,
   "metadata": {},
   "outputs": [],
   "source": [
    "import matplotlib.pyplot as plt\n",
    "\n",
    "plt.figure(figsize=(10, 6))\n",
    "plt.xlabel('# OF EPOCHS')\n",
    "plt.ylabel('TRAIN ACC')\n",
    "plt.title('ACCURACY GRAPH')\n",
    "\n",
    "plt.plot(model_1_train_nda.history['accuracy'], label='NO DROPOUT, NO DATA AUG', linestyle='-', marker='o')\n",
    "plt.plot(model_2_train.history['accuracy'], label='DATA AUG, DROPOUT', linestyle='--', marker='s')\n",
    "plt.plot(model_3_train.history['accuracy'], label='DATA AUG, NO DROPOUT', linestyle='-.', marker='^')\n",
    "plt.plot(model_4_train_nda.history['accuracy'], label='NO DATA AUG, DROPOUT', linestyle=':', marker='D')\n",
    "\n",
    "plt.legend()\n",
    "plt.grid()\n",
    "plt.show()"
   ]
  },
  {
   "cell_type": "markdown",
   "metadata": {},
   "source": [
    "## Explanation"
   ]
  },
  {
   "cell_type": "markdown",
   "metadata": {},
   "source": [
    "From the graphs we can easily observe the better performance of models in the training section in the absence of data augmentation or dropout. This is very consistent with theory since data augmentation and dropout introduce a level of randomness and regularization that can make training more challenging in the early epochs. However, training accuracy does not necessarily show model performance. In order to capture the true level of performance we need to examine the test data where data augmentation and drop off are expected to boost our performance "
   ]
  }
 ],
 "metadata": {
  "colab": {
   "provenance": []
  },
  "kernelspec": {
   "display_name": "Python 3 (ipykernel)",
   "language": "python",
   "name": "python3"
  },
  "language_info": {
   "codemirror_mode": {
    "name": "ipython",
    "version": 3
   },
   "file_extension": ".py",
   "mimetype": "text/x-python",
   "name": "python",
   "nbconvert_exporter": "python",
   "pygments_lexer": "ipython3",
   "version": "3.9.7"
  }
 },
 "nbformat": 4,
 "nbformat_minor": 1
}
