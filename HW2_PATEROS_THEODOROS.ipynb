{
 "cells": [
  {
   "cell_type": "markdown",
   "metadata": {
    "id": "IszFBGHQyIMx"
   },
   "source": [
    "# HOMEWORK 2 - THEODOROS PATEROS (G40734847)"
   ]
  },
  {
   "cell_type": "markdown",
   "metadata": {},
   "source": [
    "Import necessary libraries"
   ]
  },
  {
   "cell_type": "code",
   "execution_count": 4,
   "metadata": {
    "id": "SfV895YDvU7J"
   },
   "outputs": [],
   "source": [
    "'''\n",
    "#Train a simple deep CNN on the CIFAR10 small images dataset.\n",
    "It gets to 75% validation accuracy in 25 epochs, and 79% after 50 epochs.\n",
    "(it's still underfitting at that point, though).\n",
    "'''\n",
    "from __future__ import print_function\n",
    "import keras\n",
    "from keras.datasets import cifar10\n",
    "from keras.preprocessing.image import ImageDataGenerator\n",
    "from keras.models import Sequential\n",
    "from keras.layers import Dense, Dropout, Activation, Flatten\n",
    "from keras.layers import Conv2D, MaxPooling2D\n",
    "import os\n"
   ]
  },
  {
   "cell_type": "markdown",
   "metadata": {
    "id": "DHngr4F5yeXV"
   },
   "source": [
    "Load data and set the parameters"
   ]
  },
  {
   "cell_type": "code",
   "execution_count": 5,
   "metadata": {
    "colab": {
     "base_uri": "https://localhost:8080/"
    },
    "id": "3R0dBp6rvYek",
    "outputId": "dc424020-e1b9-4076-9c6b-ee9d3d62f994"
   },
   "outputs": [
    {
     "name": "stdout",
     "output_type": "stream",
     "text": [
      "x_train shape: (50000, 32, 32, 3)\n",
      "50000 train samples\n",
      "10000 test samples\n"
     ]
    }
   ],
   "source": [
    "batch_size = 512\n",
    "num_classes = 10\n",
    "epochs = 10\n",
    "data_augmentation = True\n",
    "num_predictions = 20\n",
    "save_dir = os.path.join(os.getcwd(), 'saved_models')\n",
    "model_name = 'keras_cifar10_trained_model.h5'\n",
    "# The data, split between train and test sets:\n",
    "(x_train, y_train), (x_test, y_test) = cifar10.load_data()\n",
    "print('x_train shape:', x_train.shape)\n",
    "print(x_train.shape[0], 'train samples')\n",
    "print(x_test.shape[0], 'test samples')\n",
    "# Convert class vectors to binary class matrices.\n",
    "y_train = keras.utils.to_categorical(y_train, num_classes)\n",
    "y_test = keras.utils.to_categorical(y_test, num_classes)"
   ]
  },
  {
   "cell_type": "markdown",
   "metadata": {
    "id": "D16Y9hMByiKX"
   },
   "source": [
    "Generate the model"
   ]
  },
  {
   "cell_type": "code",
   "execution_count": 6,
   "metadata": {
    "id": "o_J3v0XUveSt"
   },
   "outputs": [],
   "source": [
    "model = Sequential()\n",
    "model.add(Conv2D(32, (3, 3), padding='same',\n",
    "    input_shape=x_train.shape[1:]))\n",
    "model.add(Activation('relu'))\n",
    "model.add(Conv2D(32, (3, 3)))\n",
    "model.add(Activation('relu'))\n",
    "model.add(MaxPooling2D(pool_size=(2, 2)))\n",
    "model.add(Dropout(0.25))\n",
    "\n",
    "model.add(Conv2D(64, (3, 3), padding='same'))\n",
    "model.add(Activation('relu'))\n",
    "model.add(Conv2D(64, (3, 3)))\n",
    "model.add(Activation('relu'))\n",
    "model.add(MaxPooling2D(pool_size=(2, 2)))\n",
    "model.add(Dropout(0.25))\n",
    "\n",
    "model.add(Flatten())\n",
    "model.add(Dense(512))\n",
    "model.add(Activation('relu'))\n",
    "model.add(Dropout(0.5))\n",
    "model.add(Dense(num_classes))\n",
    "model.add(Activation('softmax'))"
   ]
  },
  {
   "cell_type": "markdown",
   "metadata": {
    "id": "ygnG_8_EyEyS"
   },
   "source": [
    "Train the model"
   ]
  },
  {
   "cell_type": "code",
   "execution_count": 8,
   "metadata": {
    "colab": {
     "base_uri": "https://localhost:8080/"
    },
    "id": "jHtKdVCxvlzo",
    "outputId": "91717155-d408-4503-f149-dc6e7d724d66"
   },
   "outputs": [
    {
     "name": "stdout",
     "output_type": "stream",
     "text": [
      "Using real-time data augmentation.\n"
     ]
    },
    {
     "name": "stderr",
     "output_type": "stream",
     "text": [
      "/var/folders/px/m2vm_qc55yd4gkdnl89j1phc0000gn/T/ipykernel_21556/1491166128.py:55: UserWarning: `Model.fit_generator` is deprecated and will be removed in a future version. Please use `Model.fit`, which supports generators.\n",
      "  model.fit_generator(datagen.flow(x_train, y_train,\n"
     ]
    },
    {
     "name": "stdout",
     "output_type": "stream",
     "text": [
      "Epoch 1/10\n"
     ]
    },
    {
     "name": "stderr",
     "output_type": "stream",
     "text": [
      "2023-10-23 09:21:35.040389: I tensorflow/core/common_runtime/executor.cc:1197] [/device:CPU:0] (DEBUG INFO) Executor start aborting (this does not indicate an error and you can ignore this message): INVALID_ARGUMENT: You must feed a value for placeholder tensor 'Placeholder/_0' with dtype int32\n",
      "\t [[{{node Placeholder/_0}}]]\n"
     ]
    },
    {
     "name": "stdout",
     "output_type": "stream",
     "text": [
      "98/98 [==============================] - 115s 1s/step - loss: 2.1243 - accuracy: 0.2114 - val_loss: 1.9649 - val_accuracy: 0.3125\n",
      "Epoch 2/10\n",
      "98/98 [==============================] - 121s 1s/step - loss: 1.9365 - accuracy: 0.2991 - val_loss: 1.8030 - val_accuracy: 0.3695\n",
      "Epoch 3/10\n",
      "98/98 [==============================] - 113s 1s/step - loss: 1.8293 - accuracy: 0.3372 - val_loss: 1.7257 - val_accuracy: 0.3865\n",
      "Epoch 4/10\n",
      "98/98 [==============================] - 113s 1s/step - loss: 1.7647 - accuracy: 0.3594 - val_loss: 1.6398 - val_accuracy: 0.4166\n",
      "Epoch 5/10\n",
      "98/98 [==============================] - 130s 1s/step - loss: 1.7224 - accuracy: 0.3775 - val_loss: 1.6164 - val_accuracy: 0.4154\n",
      "Epoch 6/10\n",
      "98/98 [==============================] - 135s 1s/step - loss: 1.6808 - accuracy: 0.3893 - val_loss: 1.5799 - val_accuracy: 0.4270\n",
      "Epoch 7/10\n",
      "98/98 [==============================] - 133s 1s/step - loss: 1.6463 - accuracy: 0.4016 - val_loss: 1.5089 - val_accuracy: 0.4574\n",
      "Epoch 8/10\n",
      "98/98 [==============================] - 126s 1s/step - loss: 1.6106 - accuracy: 0.4131 - val_loss: 1.5026 - val_accuracy: 0.4536\n",
      "Epoch 9/10\n",
      "98/98 [==============================] - 114s 1s/step - loss: 1.5853 - accuracy: 0.4219 - val_loss: 1.4950 - val_accuracy: 0.4524\n",
      "Epoch 10/10\n",
      "98/98 [==============================] - 132s 1s/step - loss: 1.5538 - accuracy: 0.4354 - val_loss: 1.4465 - val_accuracy: 0.4773\n"
     ]
    }
   ],
   "source": [
    "# initiate RMSprop optimizer\n",
    "opt = keras.optimizers.RMSprop(learning_rate=0.0001, decay=1e-6)\n",
    "\n",
    "# Let's train the model using RMSprop\n",
    "model.compile(loss='categorical_crossentropy',\n",
    "  optimizer=opt,\n",
    "  metrics=['accuracy'])\n",
    "x_train = x_train.astype('float32')\n",
    "x_test = x_test.astype('float32')\n",
    "x_train /= 255\n",
    "x_test /= 255\n",
    "if not data_augmentation:\n",
    "  print('Not using data augmentation.')\n",
    "  model.fit(x_train, y_train,\n",
    "      batch_size=batch_size,\n",
    "      epochs=epochs,\n",
    "      validation_data=(x_test, y_test),\n",
    "      shuffle=True)\n",
    "else:\n",
    "  print('Using real-time data augmentation.')\n",
    "  # This will do preprocessing and realtime data augmentation:\n",
    "  datagen = ImageDataGenerator(\n",
    "    featurewise_center=False, # set input mean to 0 over the dataset\n",
    "    samplewise_center=False, # set each sample mean to 0\n",
    "    featurewise_std_normalization=False, # divide inputs by std of the dataset\n",
    "    samplewise_std_normalization=False, # divide each input by its std\n",
    "    zca_whitening=False, # apply ZCA whitening\n",
    "    zca_epsilon=1e-06, # epsilon for ZCA whitening\n",
    "    rotation_range=0, # randomly rotate images in the range (degrees, 0 to 180)\n",
    "    # randomly shift images horizontally (fraction of total width)\n",
    "    width_shift_range=0.1,\n",
    "    # randomly shift images vertically (fraction of total height)\n",
    "    height_shift_range=0.1,\n",
    "    shear_range=0., # set range for random shear\n",
    "    zoom_range=0., # set range for random zoom\n",
    "    channel_shift_range=0., # set range for random channel shifts\n",
    "    # set mode for filling points outside the input boundaries\n",
    "    fill_mode='nearest',\n",
    "    cval=0., # value used for fill_mode = \"constant\"\n",
    "    horizontal_flip=True, # randomly flip images\n",
    "    vertical_flip=False, # randomly flip images\n",
    "    # set rescaling factor (applied before any other transformation)\n",
    "    rescale=None,\n",
    "    # set function that will be applied on each input\n",
    "    preprocessing_function=None,\n",
    "    # image data format, either \"channels_first\" or \"channels_last\"\n",
    "    data_format=None,\n",
    "    # fraction of images reserved for validation (strictly between 0 and 1)\n",
    "    validation_split=0.0)\n",
    "  # Compute quantities required for feature-wise normalization\n",
    "  # (std, mean, and principal components if ZCA whitening is applied).\n",
    "  datagen.fit(x_train)\n",
    "\n",
    "  # Fit the model on the batches generated by datagen.flow().\n",
    "  model.fit_generator(datagen.flow(x_train, y_train,\n",
    "                  batch_size=batch_size),\n",
    "            epochs=epochs,\n",
    "            validation_data=(x_test, y_test),\n",
    "            workers=4)"
   ]
  },
  {
   "cell_type": "markdown",
   "metadata": {
    "id": "9xmliur4x6-m"
   },
   "source": [
    "Save model and weights"
   ]
  },
  {
   "cell_type": "code",
   "execution_count": 9,
   "metadata": {
    "colab": {
     "base_uri": "https://localhost:8080/"
    },
    "id": "mrsrKKTCv46j",
    "outputId": "73b833bf-47c0-4f24-ce44-fa08bba3ea8a"
   },
   "outputs": [
    {
     "name": "stdout",
     "output_type": "stream",
     "text": [
      "Saved trained model at /Users/paterosthodoris/Desktop/MSBA/MSBA_FALL_2023/STAT_6289/saved_models/keras_cifar10_trained_model.h5 \n"
     ]
    }
   ],
   "source": [
    "if not os.path.isdir(save_dir):\n",
    "    os.makedirs(save_dir)\n",
    "model_path = os.path.join(save_dir, model_name)\n",
    "model.save(model_path)\n",
    "print('Saved trained model at %s ' % model_path)"
   ]
  },
  {
   "cell_type": "markdown",
   "metadata": {
    "id": "jIwudEcwx_XJ"
   },
   "source": [
    "Score trained model."
   ]
  },
  {
   "cell_type": "code",
   "execution_count": 10,
   "metadata": {
    "colab": {
     "base_uri": "https://localhost:8080/"
    },
    "id": "UO1CDSJwx-nu",
    "outputId": "4953a98e-e084-412e-b534-e788f226b5e5"
   },
   "outputs": [
    {
     "name": "stdout",
     "output_type": "stream",
     "text": [
      "313/313 [==============================] - 7s 23ms/step - loss: 1.4465 - accuracy: 0.4773\n",
      "Test loss: 1.4465051889419556\n",
      "Test accuracy: 0.4772999882698059\n"
     ]
    }
   ],
   "source": [
    "scores = model.evaluate(x_test, y_test, verbose=1)\n",
    "print('Test loss:', scores[0])\n",
    "print('Test accuracy:', scores[1])"
   ]
  },
  {
   "cell_type": "markdown",
   "metadata": {},
   "source": [
    "# QUESTION 1"
   ]
  },
  {
   "cell_type": "code",
   "execution_count": 13,
   "metadata": {},
   "outputs": [],
   "source": [
    "def sdn_models(hidden_layers):\n",
    "    model=Sequential()\n",
    "    model.add(Flatten(input_shape=x_train.shape[1:]))\n",
    "    for _ in range(hidden_layers):\n",
    "        model.add(Dense(512))\n",
    "        model.add(Activation('relu'))\n",
    "        model.add(Dropout(0.5)) \n",
    "    model.add(Dense(num_classes))\n",
    "    model.add(Activation('softmax'))\n",
    "    return(model)\n",
    "\n",
    "datagen = ImageDataGenerator(\n",
    "    rotation_range=40,\n",
    "    width_shift_range=0.2,\n",
    "    height_shift_range=0.2,\n",
    "    shear_range=0.2,\n",
    "    zoom_range=0.2,\n",
    "    horizontal_flip=True,\n",
    "    fill_mode='nearest')\n",
    "\n",
    "model.compile(loss='categorical_crossentropy',optimizer=opt, metrics=['accuracy'])"
   ]
  },
  {
   "cell_type": "code",
   "execution_count": 16,
   "metadata": {},
   "outputs": [
    {
     "name": "stdout",
     "output_type": "stream",
     "text": [
      "Epoch 1/10\n",
      "98/98 [==============================] - 117s 1s/step - loss: 1.2473 - accuracy: 0.5568 - val_loss: 1.1630 - val_accuracy: 0.5893\n",
      "Epoch 2/10\n",
      "98/98 [==============================] - 102s 1s/step - loss: 1.2300 - accuracy: 0.5655 - val_loss: 1.1783 - val_accuracy: 0.5869\n",
      "Epoch 3/10\n",
      "98/98 [==============================] - 110s 1s/step - loss: 1.2144 - accuracy: 0.5714 - val_loss: 1.1307 - val_accuracy: 0.6022\n",
      "Epoch 4/10\n",
      "98/98 [==============================] - 107s 1s/step - loss: 1.2036 - accuracy: 0.5728 - val_loss: 1.1176 - val_accuracy: 0.6024\n",
      "Epoch 5/10\n",
      "98/98 [==============================] - 107s 1s/step - loss: 1.1892 - accuracy: 0.5808 - val_loss: 1.1191 - val_accuracy: 0.6016\n",
      "Epoch 6/10\n",
      "98/98 [==============================] - 112s 1s/step - loss: 1.1731 - accuracy: 0.5843 - val_loss: 1.1005 - val_accuracy: 0.6109\n",
      "Epoch 7/10\n",
      "98/98 [==============================] - 101s 1s/step - loss: 1.1624 - accuracy: 0.5905 - val_loss: 1.0938 - val_accuracy: 0.6152\n",
      "Epoch 8/10\n",
      "98/98 [==============================] - 95s 967ms/step - loss: 1.1506 - accuracy: 0.5947 - val_loss: 1.0735 - val_accuracy: 0.6230\n",
      "Epoch 9/10\n",
      "98/98 [==============================] - 91s 933ms/step - loss: 1.1381 - accuracy: 0.6006 - val_loss: 1.0739 - val_accuracy: 0.6207\n",
      "Epoch 10/10\n",
      "98/98 [==============================] - 94s 964ms/step - loss: 1.1289 - accuracy: 0.6033 - val_loss: 1.0736 - val_accuracy: 0.6237\n"
     ]
    }
   ],
   "source": [
    "#CNN\n",
    "cnn_history = model.fit(x_train, y_train,\n",
    "                        batch_size=batch_size,\n",
    "                        epochs=epochs,\n",
    "                        validation_data=(x_test, y_test),\n",
    "                        shuffle=True)\n",
    "#SDN\n",
    "hidden_layers_list = [0, 1, 2, 3, 4]\n",
    "history_sdn = []\n",
    "\n",
    "for hidden_layers in hidden_layers_list:\n",
    "    sdn_model = sdn_models(hidden_layers)\n",
    "    sdn_model.compile(loss='categorical_crossentropy',\n",
    "                        optimizer=opt,\n",
    "                        metrics=['accuracy'])\n",
    "\n",
    "    history = sdn_model.fit(x_train, y_train,\n",
    "                              batch_size=batch_size,\n",
    "                              epochs=epochs,\n",
    "                              validation_data=(x_test, y_test),\n",
    "                              shuffle=True,\n",
    "                              verbose=0)\n",
    "    history_sdn.append(history)"
   ]
  },
  {
   "cell_type": "code",
   "execution_count": 23,
   "metadata": {},
   "outputs": [
    {
     "data": {
      "image/png": "[encoded data removed]",
      "text/plain": [
       "<Figure size 720x432 with 1 Axes>"
      ]
     },
     "metadata": {
      "needs_background": "light"
     },
     "output_type": "display_data"
    }
   ],
   "source": [
    "import matplotlib.pyplot as plt\n",
    "plt.figure(figsize=(10, 6))\n",
    "plt.xlabel('# OF EPOCHS')\n",
    "plt.ylabel('TEST ACC')\n",
    "plt.title('CNN VS SDN')\n",
    "\n",
    "# Plot the CNN accuracy\n",
    "plt.plot(history_cnn.history['val_accuracy'], label='CNN', linestyle='-', marker='o', color='blue')\n",
    "\n",
    "# Define a list of line styles and markers for the Dense models\n",
    "line_styles = ['dashed', 'dashdot', 'dotted', 'solid']\n",
    "markers = ['x', 's', 'D', '^']\n",
    "\n",
    "# Loop through the Dense models and plot their accuracy\n",
    "for i, num_hidden_layers in enumerate(num_hidden_layers_list):\n",
    "    line_style = line_styles[i % len(line_styles)]\n",
    "    marker = markers[i % len(markers)]\n",
    "    label = f'SDN with {num_hidden_layers} layers'\n",
    "    color = plt.cm.tab20(i)  # Use a different color for each line\n",
    "    plt.plot(history_sdn[i].history['val_accuracy'], label=label, linestyle=line_style, marker=marker, color=color)\n",
    "\n",
    "plt.legend()\n",
    "plt.grid(True)\n",
    "plt.show()"
   ]
  },
  {
   "cell_type": "markdown",
   "metadata": {},
   "source": [
    "## Explanation"
   ]
  },
  {
   "cell_type": "markdown",
   "metadata": {},
   "source": [
    "As expected, the Convolutional Neural Network performs better than the Simple Dense Networks. The structure of CNN models allows them to learn hierarchical features from the data. The addition of convolutional layers in a model allows for weight sharing and reducing the number of parameters which helps avoid issues such as overfitting. Additionally, CNN models can become subjects to regularization. In our example, our model uses Dropout which is a common regularization technique to prevent overfitting. "
   ]
  },
  {
   "cell_type": "markdown",
   "metadata": {},
   "source": [
    "# QUESTION 2 "
   ]
  },
  {
   "cell_type": "code",
   "execution_count": 25,
   "metadata": {},
   "outputs": [
    {
     "name": "stdout",
     "output_type": "stream",
     "text": [
      "Epoch 1/10\n",
      "98/98 [==============================] - 107s 1s/step - loss: 2.3832 - accuracy: 0.1035 - val_loss: 2.3057 - val_accuracy: 0.1000\n",
      "Epoch 2/10\n",
      "98/98 [==============================] - 113s 1s/step - loss: 2.3072 - accuracy: 0.0999 - val_loss: 2.3035 - val_accuracy: 0.1000\n",
      "Epoch 3/10\n",
      "98/98 [==============================] - 109s 1s/step - loss: 2.3044 - accuracy: 0.1005 - val_loss: 2.3029 - val_accuracy: 0.1000\n",
      "Epoch 4/10\n",
      "98/98 [==============================] - 119s 1s/step - loss: 2.3037 - accuracy: 0.1007 - val_loss: 2.3028 - val_accuracy: 0.1000\n",
      "Epoch 5/10\n",
      "98/98 [==============================] - 109s 1s/step - loss: 2.3037 - accuracy: 0.0985 - val_loss: 2.3027 - val_accuracy: 0.1000\n",
      "Epoch 6/10\n",
      "98/98 [==============================] - 110s 1s/step - loss: 2.3033 - accuracy: 0.1000 - val_loss: 2.3027 - val_accuracy: 0.1000\n",
      "Epoch 7/10\n",
      "98/98 [==============================] - 106s 1s/step - loss: 2.3035 - accuracy: 0.1007 - val_loss: 2.3026 - val_accuracy: 0.1000\n",
      "Epoch 8/10\n",
      "98/98 [==============================] - 99s 1s/step - loss: 2.3033 - accuracy: 0.0973 - val_loss: 2.3027 - val_accuracy: 0.1000\n",
      "Epoch 9/10\n",
      "98/98 [==============================] - 100s 1s/step - loss: 2.3033 - accuracy: 0.0980 - val_loss: 2.3026 - val_accuracy: 0.1000\n",
      "Epoch 10/10\n",
      "98/98 [==============================] - 107s 1s/step - loss: 2.3031 - accuracy: 0.1010 - val_loss: 2.3027 - val_accuracy: 0.1000\n"
     ]
    }
   ],
   "source": [
    "#SIGMOID\n",
    "sigmoid = Sequential()\n",
    "sigmoid.add(Conv2D(32, (3, 3), padding = 'same', input_shape=x_train.shape[1:]))\n",
    "sigmoid.add(Activation('sigmoid'))\n",
    "sigmoid.add(Conv2D(32, (3, 3)))\n",
    "sigmoid.add(Activation('sigmoid'))\n",
    "sigmoid.add(MaxPooling2D(pool_size=(2, 2)))\n",
    "sigmoid.add(Dropout(0.25))\n",
    "\n",
    "sigmoid.add(Conv2D(64, (3, 3), padding = 'same'))\n",
    "sigmoid.add(Activation('sigmoid'))\n",
    "sigmoid.add(Conv2D(64, (3, 3)))\n",
    "sigmoid.add(Activation('sigmoid'))\n",
    "sigmoid.add(MaxPooling2D(pool_size=(2, 2)))\n",
    "sigmoid.add(Dropout(0.25))\n",
    "\n",
    "sigmoid.add(Flatten())\n",
    "sigmoid.add(Dense(512))\n",
    "sigmoid.add(Activation('sigmoid'))\n",
    "sigmoid.add(Dropout(0.5))\n",
    "sigmoid.add(Dense(num_classes))\n",
    "sigmoid.add(Activation('softmax'))\n",
    "\n",
    "opt = keras.optimizers.RMSprop(learning_rate=0.0001, decay=1e-6)\n",
    "sigmoid.compile(loss='categorical_crossentropy',\n",
    "                      optimizer=opt,\n",
    "                      metrics=['accuracy'])\n",
    "\n",
    "sigmoid_train = sigmoid.fit(x_train, y_train,\n",
    "                                  batch_size=batch_size,\n",
    "                                  epochs=epochs,\n",
    "                                  validation_data=(x_test, y_test),\n",
    "                                  shuffle=True)"
   ]
  },
  {
   "cell_type": "code",
   "execution_count": 27,
   "metadata": {},
   "outputs": [
    {
     "name": "stdout",
     "output_type": "stream",
     "text": [
      "Epoch 1/10\n",
      "98/98 [==============================] - 102s 1s/step - loss: 2.1140 - accuracy: 0.2160 - val_loss: 1.9048 - val_accuracy: 0.3310\n",
      "Epoch 2/10\n",
      "98/98 [==============================] - 105s 1s/step - loss: 1.8572 - accuracy: 0.3278 - val_loss: 1.7423 - val_accuracy: 0.3815\n",
      "Epoch 3/10\n",
      "98/98 [==============================] - 97s 987ms/step - loss: 1.7455 - accuracy: 0.3689 - val_loss: 1.6459 - val_accuracy: 0.4118\n",
      "Epoch 4/10\n",
      "98/98 [==============================] - 103s 1s/step - loss: 1.6751 - accuracy: 0.3944 - val_loss: 1.5850 - val_accuracy: 0.4286\n",
      "Epoch 5/10\n",
      "98/98 [==============================] - 105s 1s/step - loss: 1.6201 - accuracy: 0.4134 - val_loss: 1.5285 - val_accuracy: 0.4517\n",
      "Epoch 6/10\n",
      "98/98 [==============================] - 98s 999ms/step - loss: 1.5714 - accuracy: 0.4324 - val_loss: 1.5183 - val_accuracy: 0.4548\n",
      "Epoch 7/10\n",
      "98/98 [==============================] - 108s 1s/step - loss: 1.5320 - accuracy: 0.4454 - val_loss: 1.4363 - val_accuracy: 0.4885\n",
      "Epoch 8/10\n",
      "98/98 [==============================] - 94s 961ms/step - loss: 1.4954 - accuracy: 0.4602 - val_loss: 1.4005 - val_accuracy: 0.5034\n",
      "Epoch 9/10\n",
      "98/98 [==============================] - 120s 1s/step - loss: 1.4647 - accuracy: 0.4720 - val_loss: 1.3705 - val_accuracy: 0.5124\n",
      "Epoch 10/10\n",
      "98/98 [==============================] - 92s 936ms/step - loss: 1.4421 - accuracy: 0.4807 - val_loss: 1.3653 - val_accuracy: 0.5160\n"
     ]
    }
   ],
   "source": [
    "#RELU\n",
    "relu = Sequential()\n",
    "relu.add(Conv2D(32, (3, 3), padding='same',\n",
    "    input_shape=x_train.shape[1:]))\n",
    "relu.add(Activation('relu'))\n",
    "relu.add(Conv2D(32, (3, 3)))\n",
    "relu.add(Activation('relu'))\n",
    "relu.add(MaxPooling2D(pool_size=(2, 2)))\n",
    "relu.add(Dropout(0.25))\n",
    "\n",
    "relu.add(Conv2D(64, (3, 3), padding='same'))\n",
    "relu.add(Activation('relu'))\n",
    "relu.add(Conv2D(64, (3, 3)))\n",
    "relu.add(Activation('relu'))\n",
    "relu.add(MaxPooling2D(pool_size=(2, 2)))\n",
    "relu.add(Dropout(0.25))\n",
    "\n",
    "relu.add(Flatten())\n",
    "relu.add(Dense(512))\n",
    "relu.add(Activation('relu'))\n",
    "relu.add(Dropout(0.5))\n",
    "relu.add(Dense(num_classes))\n",
    "relu.add(Activation('softmax'))\n",
    "\n",
    "opt = keras.optimizers.RMSprop(learning_rate=0.0001, decay=1e-6)\n",
    "relu.compile(loss='categorical_crossentropy',\n",
    "                      optimizer=opt,\n",
    "                      metrics=['accuracy'])\n",
    "\n",
    "relu_train = relu.fit(x_train, y_train,\n",
    "                                  batch_size=batch_size,\n",
    "                                  epochs=epochs,\n",
    "                                  validation_data=(x_test, y_test),\n",
    "                                  shuffle=True)"
   ]
  },
  {
   "cell_type": "code",
   "execution_count": 29,
   "metadata": {},
   "outputs": [
    {
     "data": {
      "image/png": "[encoded data removed]",
      "text/plain": [
       "<Figure size 720x432 with 1 Axes>"
      ]
     },
     "metadata": {
      "needs_background": "light"
     },
     "output_type": "display_data"
    }
   ],
   "source": [
    "import matplotlib.pyplot as plt\n",
    "\n",
    "# Create a figure and axis\n",
    "fig, ax = plt.subplots(figsize=(10, 6))\n",
    "\n",
    "# Plot training accuracy for ReLU and Sigmoid\n",
    "ax.plot(sigmoid_train.history['accuracy'], label='Sigmoid', linestyle='dashed', marker='o', color='orange')\n",
    "ax.plot(relu_train.history['accuracy'], label='ReLU', linestyle='dotted', marker='x', color='blue')\n",
    "\n",
    "\n",
    "# Set labels and title\n",
    "ax.set_xlabel('# OF EPOCHS')\n",
    "ax.set_ylabel('TRAIN ACC')\n",
    "ax.set_title('RELU VS SIGMOID TRAIN ACC')\n",
    "\n",
    "# Add a legend\n",
    "ax.legend()\n",
    "\n",
    "# Add a grid\n",
    "ax.grid(True)\n",
    "\n",
    "# Show the plot\n",
    "plt.show()"
   ]
  },
  {
   "cell_type": "code",
   "execution_count": 30,
   "metadata": {},
   "outputs": [
    {
     "data": {
      "image/png": "[encoded data removed]",
      "text/plain": [
       "<Figure size 720x432 with 1 Axes>"
      ]
     },
     "metadata": {
      "needs_background": "light"
     },
     "output_type": "display_data"
    }
   ],
   "source": [
    "import matplotlib.pyplot as plt\n",
    "\n",
    "# Create a figure and axis\n",
    "fig, ax = plt.subplots(figsize=(10, 6))\n",
    "\n",
    "# Plot training accuracy for ReLU and Sigmoid\n",
    "ax.plot(sigmoid_train.history['val_accuracy'], label='Sigmoid', linestyle='dashed', marker='o', color='orange')\n",
    "ax.plot(relu_train.history['val_accuracy'], label='ReLU', linestyle='dotted', marker='x', color='blue')\n",
    "\n",
    "\n",
    "# Set labels and title\n",
    "ax.set_xlabel('# OF EPOCHS')\n",
    "ax.set_ylabel('TRAIN ACC')\n",
    "ax.set_title('RELU VS SIGMOID VALIDATION ACC')\n",
    "\n",
    "# Add a legend\n",
    "ax.legend()\n",
    "\n",
    "# Add a grid\n",
    "ax.grid(True)\n",
    "\n",
    "# Show the plot\n",
    "plt.show()"
   ]
  },
  {
   "cell_type": "code",
   "execution_count": 31,
   "metadata": {},
   "outputs": [
    {
     "name": "stdout",
     "output_type": "stream",
     "text": [
      "Saved trained model at /Users/paterosthodoris/Desktop/MSBA/MSBA_FALL_2023/STAT_6289/saved_models/keras_cifar10_trained_model.h5 \n"
     ]
    }
   ],
   "source": [
    "if not os.path.isdir(save_dir):\n",
    "    os.makedirs(save_dir)\n",
    "model_path = os.path.join(save_dir, model_name)\n",
    "model.save(model_path)\n",
    "print('Saved trained model at %s ' % model_path)"
   ]
  },
  {
   "cell_type": "code",
   "execution_count": 33,
   "metadata": {},
   "outputs": [
    {
     "name": "stdout",
     "output_type": "stream",
     "text": [
      "313/313 [==============================] - 7s 21ms/step - loss: 2.3027 - accuracy: 0.1000\n",
      "Test loss: 2.3027262687683105\n",
      "Test accuracy: 0.10000000149011612\n"
     ]
    }
   ],
   "source": [
    "scores = sigmoid.evaluate(x_test, y_test, verbose=1)\n",
    "print('Test loss:', scores[0])\n",
    "print('Test accuracy:', scores[1])"
   ]
  },
  {
   "cell_type": "markdown",
   "metadata": {},
   "source": [
    "## Explanation"
   ]
  },
  {
   "cell_type": "markdown",
   "metadata": {},
   "source": [
    "When comparing the performance between the ReLu model and the Sigmoid model, we can see that the ReLu model performs better. This is not surprising, taking into consideration that ReLu is generally considered a better choice when it comes to image classification tasks. The primary explanation for that is that the properties of ReLU  such as the avoidance of vanishing gradients enable the neural network to learn and represent image features more effectively, leading to higher classification accuracy."
   ]
  },
  {
   "cell_type": "markdown",
   "metadata": {},
   "source": [
    "# QUESTION 3"
   ]
  },
  {
   "cell_type": "markdown",
   "metadata": {},
   "source": [
    "## No Dropout, No Data Augmentation"
   ]
  },
  {
   "cell_type": "code",
   "execution_count": 34,
   "metadata": {},
   "outputs": [],
   "source": [
    "batch_size = 512\n",
    "num_classes = 10\n",
    "epochs = 25\n",
    "data_augmentation = False\n",
    "num_predictions = 20\n",
    "save_dir = os.path.join(os.getcwd(), 'saved_models')\n",
    "model_name = 'keras_cifar10_trained_model.h5'"
   ]
  },
  {
   "cell_type": "code",
   "execution_count": 35,
   "metadata": {},
   "outputs": [
    {
     "name": "stdout",
     "output_type": "stream",
     "text": [
      "x_train shape: (50000, 32, 32, 3)\n",
      "50000 train samples\n",
      "10000 test samples\n"
     ]
    }
   ],
   "source": [
    "# The data, split between train and test sets:\n",
    "(x_train, y_train), (x_test, y_test) = cifar10.load_data()\n",
    "print('x_train shape:', x_train.shape)\n",
    "print(x_train.shape[0], 'train samples')\n",
    "print(x_test.shape[0], 'test samples')\n",
    "# Convert class vectors to binary class matrices.\n",
    "y_train = keras.utils.to_categorical(y_train, num_classes)\n",
    "y_test = keras.utils.to_categorical(y_test, num_classes)"
   ]
  },
  {
   "cell_type": "code",
   "execution_count": 36,
   "metadata": {},
   "outputs": [],
   "source": [
    "model_1 = Sequential()\n",
    "model_1.add(Conv2D(32, (3, 3), padding='same',\n",
    "    input_shape=x_train.shape[1:]))\n",
    "model_1.add(Activation('relu'))\n",
    "model_1.add(Conv2D(32, (3, 3)))\n",
    "model_1.add(Activation('relu'))\n",
    "model_1.add(MaxPooling2D(pool_size=(2, 2)))\n",
    "\n",
    "model_1.add(Conv2D(64, (3, 3), padding='same'))\n",
    "model_1.add(Activation('relu'))\n",
    "model_1.add(Conv2D(64, (3, 3)))\n",
    "model_1.add(Activation('relu'))\n",
    "model_1.add(MaxPooling2D(pool_size=(2, 2)))\n",
    "\n",
    "model_1.add(Flatten())\n",
    "model_1.add(Dense(512))\n",
    "model_1.add(Activation('relu'))\n",
    "model_1.add(Dense(num_classes))\n",
    "model_1.add(Activation('softmax'))"
   ]
  },
  {
   "cell_type": "code",
   "execution_count": 49,
   "metadata": {},
   "outputs": [
    {
     "name": "stdout",
     "output_type": "stream",
     "text": [
      "Not using data augmentation.\n",
      "Epoch 1/25\n",
      "98/98 [==============================] - 87s 869ms/step - loss: 1.9616 - accuracy: 0.3067 - val_loss: 1.7555 - val_accuracy: 0.3794\n",
      "Epoch 2/25\n",
      "98/98 [==============================] - 86s 873ms/step - loss: 1.7006 - accuracy: 0.3965 - val_loss: 1.6428 - val_accuracy: 0.4151\n",
      "Epoch 3/25\n",
      "98/98 [==============================] - 86s 874ms/step - loss: 1.6115 - accuracy: 0.4265 - val_loss: 1.5773 - val_accuracy: 0.4267\n",
      "Epoch 4/25\n",
      "98/98 [==============================] - 85s 869ms/step - loss: 1.5460 - accuracy: 0.4526 - val_loss: 1.5390 - val_accuracy: 0.4540\n",
      "Epoch 5/25\n",
      "98/98 [==============================] - 85s 863ms/step - loss: 1.4967 - accuracy: 0.4675 - val_loss: 1.4476 - val_accuracy: 0.4923\n",
      "Epoch 6/25\n",
      "98/98 [==============================] - 85s 864ms/step - loss: 1.4534 - accuracy: 0.4846 - val_loss: 1.4516 - val_accuracy: 0.4917\n",
      "Epoch 7/25\n",
      "98/98 [==============================] - 84s 859ms/step - loss: 1.4190 - accuracy: 0.4982 - val_loss: 1.4120 - val_accuracy: 0.4998\n",
      "Epoch 8/25\n",
      "98/98 [==============================] - 84s 854ms/step - loss: 1.3831 - accuracy: 0.5083 - val_loss: 1.3735 - val_accuracy: 0.5172\n",
      "Epoch 9/25\n",
      "98/98 [==============================] - 84s 858ms/step - loss: 1.3608 - accuracy: 0.5225 - val_loss: 1.3228 - val_accuracy: 0.5331\n",
      "Epoch 10/25\n",
      "98/98 [==============================] - 84s 856ms/step - loss: 1.3270 - accuracy: 0.5334 - val_loss: 1.2996 - val_accuracy: 0.5382\n",
      "Epoch 11/25\n",
      "98/98 [==============================] - 83s 851ms/step - loss: 1.3023 - accuracy: 0.5423 - val_loss: 1.2781 - val_accuracy: 0.5478\n",
      "Epoch 12/25\n",
      "98/98 [==============================] - 84s 854ms/step - loss: 1.2796 - accuracy: 0.5543 - val_loss: 1.2742 - val_accuracy: 0.5518\n",
      "Epoch 13/25\n",
      "98/98 [==============================] - 84s 863ms/step - loss: 1.2577 - accuracy: 0.5596 - val_loss: 1.2683 - val_accuracy: 0.5549\n",
      "Epoch 14/25\n",
      "98/98 [==============================] - 84s 854ms/step - loss: 1.2359 - accuracy: 0.5694 - val_loss: 1.2477 - val_accuracy: 0.5602\n",
      "Epoch 15/25\n",
      "98/98 [==============================] - 83s 850ms/step - loss: 1.2144 - accuracy: 0.5771 - val_loss: 1.2276 - val_accuracy: 0.5675\n",
      "Epoch 16/25\n",
      "98/98 [==============================] - 84s 855ms/step - loss: 1.1926 - accuracy: 0.5831 - val_loss: 1.1810 - val_accuracy: 0.5857\n",
      "Epoch 17/25\n",
      "98/98 [==============================] - 84s 855ms/step - loss: 1.1724 - accuracy: 0.5949 - val_loss: 1.2170 - val_accuracy: 0.5740\n",
      "Epoch 18/25\n",
      "98/98 [==============================] - 84s 853ms/step - loss: 1.1583 - accuracy: 0.5956 - val_loss: 1.1721 - val_accuracy: 0.5902\n",
      "Epoch 19/25\n",
      "98/98 [==============================] - 85s 865ms/step - loss: 1.1342 - accuracy: 0.6073 - val_loss: 1.2095 - val_accuracy: 0.5742\n",
      "Epoch 20/25\n",
      "98/98 [==============================] - 85s 865ms/step - loss: 1.1212 - accuracy: 0.6124 - val_loss: 1.1182 - val_accuracy: 0.6112\n",
      "Epoch 21/25\n",
      "98/98 [==============================] - 84s 857ms/step - loss: 1.1010 - accuracy: 0.6192 - val_loss: 1.1791 - val_accuracy: 0.5939\n",
      "Epoch 22/25\n",
      "98/98 [==============================] - 84s 857ms/step - loss: 1.0859 - accuracy: 0.6218 - val_loss: 1.1053 - val_accuracy: 0.6145\n",
      "Epoch 23/25\n",
      "98/98 [==============================] - 86s 873ms/step - loss: 1.0661 - accuracy: 0.6301 - val_loss: 1.1045 - val_accuracy: 0.6116\n",
      "Epoch 24/25\n",
      "98/98 [==============================] - 88s 895ms/step - loss: 1.0550 - accuracy: 0.6372 - val_loss: 1.0708 - val_accuracy: 0.6290\n",
      "Epoch 25/25\n",
      "98/98 [==============================] - 83s 849ms/step - loss: 1.0371 - accuracy: 0.6429 - val_loss: 1.1034 - val_accuracy: 0.6151\n"
     ]
    }
   ],
   "source": [
    "# initiate RMSprop optimizer\n",
    "opt = keras.optimizers.RMSprop(learning_rate=0.0001, decay=1e-6)\n",
    "\n",
    "# Let's train the model using RMSprop\n",
    "model_1.compile(loss='categorical_crossentropy',\n",
    "  optimizer=opt,\n",
    "  metrics=['accuracy'])\n",
    "x_train = x_train.astype('float32')\n",
    "x_test = x_test.astype('float32')\n",
    "x_train /= 255\n",
    "x_test /= 255\n",
    "\n",
    "if not data_augmentation:\n",
    "  print('Not using data augmentation.')\n",
    "  model_1_train_nda = model_1.fit(x_train, y_train,\n",
    "      batch_size=batch_size,\n",
    "      epochs=epochs,\n",
    "      validation_data=(x_test, y_test),\n",
    "      shuffle=True)\n",
    "else:\n",
    "  print('Using real-time data augmentation.')\n",
    "  # This will do preprocessing and real-time data augmentation:\n",
    "  datagen = ImageDataGenerator(\n",
    "    featurewise_center=False,\n",
    "    samplewise_center=False,\n",
    "    featurewise_std_normalization=False,\n",
    "    samplewise_std_normalization=False,\n",
    "    zca_whitening=False,\n",
    "    zca_epsilon=1e-06,\n",
    "    rotation_range=0,\n",
    "    width_shift_range=0.1,\n",
    "    height_shift_range=0.1,\n",
    "    shear_range=0.,\n",
    "    zoom_range=0.,\n",
    "    channel_shift_range=0.,\n",
    "    fill_mode='nearest',\n",
    "    cval=0.,\n",
    "    horizontal_flip=True,\n",
    "    vertical_flip=False,\n",
    "    rescale=None,\n",
    "    preprocessing_function=None,\n",
    "    data_format=None,\n",
    "    validation_split=0.0)\n",
    "  \n",
    "  # Compute quantities required for feature-wise normalization\n",
    "  datagen.fit(x_train)\n",
    "\n",
    "  # Fit the model on the batches generated by datagen.flow().\n",
    "  model_1_train = model_1.fit_generator(datagen.flow(x_train, y_train, batch_size=batch_size),\n",
    "            epochs=epochs,\n",
    "            validation_data=(x_test, y_test),\n",
    "            workers=4)\n"
   ]
  },
  {
   "cell_type": "markdown",
   "metadata": {},
   "source": [
    "## Dropout, Data Augmentation"
   ]
  },
  {
   "cell_type": "code",
   "execution_count": 50,
   "metadata": {},
   "outputs": [],
   "source": [
    "batch_size = 512\n",
    "num_classes = 10\n",
    "epochs = 25\n",
    "data_augmentation = True\n",
    "num_predictions = 20\n",
    "save_dir = os.path.join(os.getcwd(), 'saved_models')\n",
    "model_name = 'keras_cifar10_trained_model.h5'"
   ]
  },
  {
   "cell_type": "code",
   "execution_count": 51,
   "metadata": {},
   "outputs": [
    {
     "name": "stdout",
     "output_type": "stream",
     "text": [
      "x_train shape: (50000, 32, 32, 3)\n",
      "50000 train samples\n",
      "10000 test samples\n"
     ]
    }
   ],
   "source": [
    "# The data, split between train and test sets:\n",
    "(x_train, y_train), (x_test, y_test) = cifar10.load_data()\n",
    "print('x_train shape:', x_train.shape)\n",
    "print(x_train.shape[0], 'train samples')\n",
    "print(x_test.shape[0], 'test samples')\n",
    "# Convert class vectors to binary class matrices.\n",
    "y_train = keras.utils.to_categorical(y_train, num_classes)\n",
    "y_test = keras.utils.to_categorical(y_test, num_classes)"
   ]
  },
  {
   "cell_type": "code",
   "execution_count": 52,
   "metadata": {},
   "outputs": [],
   "source": [
    "model_2 = Sequential()\n",
    "model_2.add(Conv2D(32, (3, 3), padding='same',\n",
    "    input_shape=x_train.shape[1:]))\n",
    "model_2.add(Activation('relu'))\n",
    "model_2.add(Conv2D(32, (3, 3)))\n",
    "model_2.add(Activation('relu'))\n",
    "model_2.add(MaxPooling2D(pool_size=(2, 2)))\n",
    "model_2.add(Dropout(0.25))\n",
    "\n",
    "model_2.add(Conv2D(64, (3, 3), padding='same'))\n",
    "model_2.add(Activation('relu'))\n",
    "model_2.add(Conv2D(64, (3, 3)))\n",
    "model_2.add(Activation('relu'))\n",
    "model_2.add(MaxPooling2D(pool_size=(2, 2)))\n",
    "model_2.add(Dropout(0.25))\n",
    "\n",
    "model_2.add(Flatten())\n",
    "model_2.add(Dense(512))\n",
    "model_2.add(Activation('relu'))\n",
    "model_2.add(Dropout(0.5))\n",
    "model_2.add(Dense(num_classes))\n",
    "model_2.add(Activation('softmax'))"
   ]
  },
  {
   "cell_type": "code",
   "execution_count": 54,
   "metadata": {},
   "outputs": [
    {
     "name": "stdout",
     "output_type": "stream",
     "text": [
      "Using real-time data augmentation.\n"
     ]
    },
    {
     "name": "stderr",
     "output_type": "stream",
     "text": [
      "/var/folders/px/m2vm_qc55yd4gkdnl89j1phc0000gn/T/ipykernel_21556/4101763531.py:55: UserWarning: `Model.fit_generator` is deprecated and will be removed in a future version. Please use `Model.fit`, which supports generators.\n",
      "  model_2_train = model_2.fit_generator(datagen.flow(x_train, y_train,\n"
     ]
    },
    {
     "name": "stdout",
     "output_type": "stream",
     "text": [
      "Epoch 1/25\n"
     ]
    },
    {
     "name": "stderr",
     "output_type": "stream",
     "text": [
      "2023-10-23 21:57:07.480860: I tensorflow/core/common_runtime/executor.cc:1197] [/device:CPU:0] (DEBUG INFO) Executor start aborting (this does not indicate an error and you can ignore this message): INVALID_ARGUMENT: You must feed a value for placeholder tensor 'Placeholder/_0' with dtype int32\n",
      "\t [[{{node Placeholder/_0}}]]\n"
     ]
    },
    {
     "name": "stdout",
     "output_type": "stream",
     "text": [
      "98/98 [==============================] - 99s 994ms/step - loss: 2.1151 - accuracy: 0.2145 - val_loss: 1.9378 - val_accuracy: 0.3142\n",
      "Epoch 2/25\n",
      "98/98 [==============================] - 106s 1s/step - loss: 1.9037 - accuracy: 0.3031 - val_loss: 1.7616 - val_accuracy: 0.3753\n",
      "Epoch 3/25\n",
      "98/98 [==============================] - 101s 1s/step - loss: 1.8082 - accuracy: 0.3426 - val_loss: 1.6921 - val_accuracy: 0.3995\n",
      "Epoch 4/25\n",
      "98/98 [==============================] - 98s 994ms/step - loss: 1.7468 - accuracy: 0.3684 - val_loss: 1.6381 - val_accuracy: 0.4079\n",
      "Epoch 5/25\n",
      "98/98 [==============================] - 99s 998ms/step - loss: 1.7019 - accuracy: 0.3824 - val_loss: 1.5818 - val_accuracy: 0.4317\n",
      "Epoch 6/25\n",
      "98/98 [==============================] - 107s 1s/step - loss: 1.6630 - accuracy: 0.3946 - val_loss: 1.5425 - val_accuracy: 0.4464\n",
      "Epoch 7/25\n",
      "98/98 [==============================] - 106s 1s/step - loss: 1.6293 - accuracy: 0.4042 - val_loss: 1.4986 - val_accuracy: 0.4592\n",
      "Epoch 8/25\n",
      "98/98 [==============================] - 98s 987ms/step - loss: 1.6000 - accuracy: 0.4171 - val_loss: 1.5197 - val_accuracy: 0.4568\n",
      "Epoch 9/25\n",
      "98/98 [==============================] - 100s 1s/step - loss: 1.5722 - accuracy: 0.4249 - val_loss: 1.4298 - val_accuracy: 0.4842\n",
      "Epoch 10/25\n",
      "98/98 [==============================] - 103s 1s/step - loss: 1.5491 - accuracy: 0.4369 - val_loss: 1.3937 - val_accuracy: 0.4973\n",
      "Epoch 11/25\n",
      "98/98 [==============================] - 98s 986ms/step - loss: 1.5253 - accuracy: 0.4435 - val_loss: 1.5002 - val_accuracy: 0.4607\n",
      "Epoch 12/25\n",
      "98/98 [==============================] - 99s 996ms/step - loss: 1.5088 - accuracy: 0.4529 - val_loss: 1.4428 - val_accuracy: 0.4798\n",
      "Epoch 13/25\n",
      "98/98 [==============================] - 103s 1s/step - loss: 1.4890 - accuracy: 0.4607 - val_loss: 1.4901 - val_accuracy: 0.4630\n",
      "Epoch 14/25\n",
      "98/98 [==============================] - 100s 1s/step - loss: 1.4702 - accuracy: 0.4687 - val_loss: 1.4099 - val_accuracy: 0.4929\n",
      "Epoch 15/25\n",
      "98/98 [==============================] - 103s 1s/step - loss: 1.4537 - accuracy: 0.4716 - val_loss: 1.3163 - val_accuracy: 0.5284\n",
      "Epoch 16/25\n",
      "98/98 [==============================] - 99s 1s/step - loss: 1.4414 - accuracy: 0.4793 - val_loss: 1.3571 - val_accuracy: 0.5151\n",
      "Epoch 17/25\n",
      "98/98 [==============================] - 102s 1s/step - loss: 1.4260 - accuracy: 0.4871 - val_loss: 1.2746 - val_accuracy: 0.5461\n",
      "Epoch 18/25\n",
      "98/98 [==============================] - 102s 1s/step - loss: 1.4148 - accuracy: 0.4906 - val_loss: 1.2770 - val_accuracy: 0.5473\n",
      "Epoch 19/25\n",
      "98/98 [==============================] - 101s 1s/step - loss: 1.4038 - accuracy: 0.4966 - val_loss: 1.2590 - val_accuracy: 0.5502\n",
      "Epoch 20/25\n",
      "98/98 [==============================] - 97s 982ms/step - loss: 1.3881 - accuracy: 0.4996 - val_loss: 1.2297 - val_accuracy: 0.5654\n",
      "Epoch 21/25\n",
      "98/98 [==============================] - 101s 1s/step - loss: 1.3770 - accuracy: 0.5052 - val_loss: 1.2341 - val_accuracy: 0.5608\n",
      "Epoch 22/25\n",
      "98/98 [==============================] - 101s 1s/step - loss: 1.3668 - accuracy: 0.5106 - val_loss: 1.2221 - val_accuracy: 0.5682\n",
      "Epoch 23/25\n",
      "98/98 [==============================] - 102s 1s/step - loss: 1.3509 - accuracy: 0.5166 - val_loss: 1.1963 - val_accuracy: 0.5762\n",
      "Epoch 24/25\n",
      "98/98 [==============================] - 100s 1s/step - loss: 1.3424 - accuracy: 0.5197 - val_loss: 1.2581 - val_accuracy: 0.5544\n",
      "Epoch 25/25\n",
      "98/98 [==============================] - 98s 990ms/step - loss: 1.3281 - accuracy: 0.5259 - val_loss: 1.3332 - val_accuracy: 0.5275\n"
     ]
    }
   ],
   "source": [
    "# initiate RMSprop optimizer\n",
    "opt = keras.optimizers.RMSprop(learning_rate=0.0001, decay=1e-6)\n",
    "\n",
    "# Let's train the model using RMSprop\n",
    "model_2.compile(loss='categorical_crossentropy',\n",
    "  optimizer=opt,\n",
    "  metrics=['accuracy'])\n",
    "x_train = x_train.astype('float32')\n",
    "x_test = x_test.astype('float32')\n",
    "x_train /= 255\n",
    "x_test /= 255\n",
    "if not data_augmentation:\n",
    "  print('Not using data augmentation.')\n",
    "  model_2_train_nda = model_2.fit(x_train, y_train,\n",
    "      batch_size=batch_size,\n",
    "      epochs=epochs,\n",
    "      validation_data=(x_test, y_test),\n",
    "      shuffle=True)\n",
    "else:\n",
    "  print('Using real-time data augmentation.')\n",
    "  # This will do preprocessing and realtime data augmentation:\n",
    "  datagen = ImageDataGenerator(\n",
    "    featurewise_center=False, # set input mean to 0 over the dataset\n",
    "    samplewise_center=False, # set each sample mean to 0\n",
    "    featurewise_std_normalization=False, # divide inputs by std of the dataset\n",
    "    samplewise_std_normalization=False, # divide each input by its std\n",
    "    zca_whitening=False, # apply ZCA whitening\n",
    "    zca_epsilon=1e-06, # epsilon for ZCA whitening\n",
    "    rotation_range=0, # randomly rotate images in the range (degrees, 0 to 180)\n",
    "    # randomly shift images horizontally (fraction of total width)\n",
    "    width_shift_range=0.1,\n",
    "    # randomly shift images vertically (fraction of total height)\n",
    "    height_shift_range=0.1,\n",
    "    shear_range=0., # set range for random shear\n",
    "    zoom_range=0., # set range for random zoom\n",
    "    channel_shift_range=0., # set range for random channel shifts\n",
    "    # set mode for filling points outside the input boundaries\n",
    "    fill_mode='nearest',\n",
    "    cval=0., # value used for fill_mode = \"constant\"\n",
    "    horizontal_flip=True, # randomly flip images\n",
    "    vertical_flip=False, # randomly flip images\n",
    "    # set rescaling factor (applied before any other transformation)\n",
    "    rescale=None,\n",
    "    # set function that will be applied on each input\n",
    "    preprocessing_function=None,\n",
    "    # image data format, either \"channels_first\" or \"channels_last\"\n",
    "    data_format=None,\n",
    "    # fraction of images reserved for validation (strictly between 0 and 1)\n",
    "    validation_split=0.0)\n",
    "  # Compute quantities required for feature-wise normalization\n",
    "  # (std, mean, and principal components if ZCA whitening is applied).\n",
    "  datagen.fit(x_train)\n",
    "\n",
    "  # Fit the model on the batches generated by datagen.flow().\n",
    "  model_2_train = model_2.fit_generator(datagen.flow(x_train, y_train,\n",
    "                  batch_size=batch_size),\n",
    "            epochs=epochs,\n",
    "            validation_data=(x_test, y_test),\n",
    "            workers=4)"
   ]
  },
  {
   "cell_type": "markdown",
   "metadata": {},
   "source": [
    "## No Dropout, Data Augmentation"
   ]
  },
  {
   "cell_type": "code",
   "execution_count": 55,
   "metadata": {},
   "outputs": [],
   "source": [
    "batch_size = 512\n",
    "num_classes = 10\n",
    "epochs = 25 \n",
    "data_augmentation = True\n",
    "num_predictions = 20\n",
    "save_dir = os.path.join(os.getcwd(), 'saved_models')\n",
    "model_name = 'keras_cifar10_trained_model.h5'"
   ]
  },
  {
   "cell_type": "code",
   "execution_count": 56,
   "metadata": {},
   "outputs": [
    {
     "name": "stdout",
     "output_type": "stream",
     "text": [
      "x_train shape: (50000, 32, 32, 3)\n",
      "50000 train samples\n",
      "10000 test samples\n"
     ]
    }
   ],
   "source": [
    "# The data, split between train and test sets:\n",
    "(x_train, y_train), (x_test, y_test) = cifar10.load_data()\n",
    "print('x_train shape:', x_train.shape)\n",
    "print(x_train.shape[0], 'train samples')\n",
    "print(x_test.shape[0], 'test samples')\n",
    "# Convert class vectors to binary class matrices.\n",
    "y_train = keras.utils.to_categorical(y_train, num_classes)\n",
    "y_test = keras.utils.to_categorical(y_test, num_classes)"
   ]
  },
  {
   "cell_type": "code",
   "execution_count": 57,
   "metadata": {},
   "outputs": [],
   "source": [
    "model_3 = Sequential()\n",
    "model_3.add(Conv2D(32, (3, 3), padding='same',\n",
    "    input_shape=x_train.shape[1:]))\n",
    "model_3.add(Activation('relu'))\n",
    "model_3.add(Conv2D(32, (3, 3)))\n",
    "model_3.add(Activation('relu'))\n",
    "model_3.add(MaxPooling2D(pool_size=(2, 2)))\n",
    "\n",
    "model_3.add(Conv2D(64, (3, 3), padding='same'))\n",
    "model_3.add(Activation('relu'))\n",
    "model_3.add(Conv2D(64, (3, 3)))\n",
    "model_3.add(Activation('relu'))\n",
    "model_3.add(MaxPooling2D(pool_size=(2, 2)))\n",
    "\n",
    "model_3.add(Flatten())\n",
    "model_3.add(Dense(512))\n",
    "model_3.add(Activation('relu'))\n",
    "model_3.add(Dense(num_classes))\n",
    "model_3.add(Activation('softmax'))"
   ]
  },
  {
   "cell_type": "code",
   "execution_count": 58,
   "metadata": {},
   "outputs": [
    {
     "name": "stdout",
     "output_type": "stream",
     "text": [
      "Using real-time data augmentation.\n"
     ]
    },
    {
     "name": "stderr",
     "output_type": "stream",
     "text": [
      "/var/folders/px/m2vm_qc55yd4gkdnl89j1phc0000gn/T/ipykernel_21556/4280191816.py:55: UserWarning: `Model.fit_generator` is deprecated and will be removed in a future version. Please use `Model.fit`, which supports generators.\n",
      "  model_3_train = model_3.fit_generator(datagen.flow(x_train, y_train,\n"
     ]
    },
    {
     "name": "stdout",
     "output_type": "stream",
     "text": [
      "Epoch 1/25\n"
     ]
    },
    {
     "name": "stderr",
     "output_type": "stream",
     "text": [
      "2023-10-23 22:40:05.478204: I tensorflow/core/common_runtime/executor.cc:1197] [/device:CPU:0] (DEBUG INFO) Executor start aborting (this does not indicate an error and you can ignore this message): INVALID_ARGUMENT: You must feed a value for placeholder tensor 'Placeholder/_0' with dtype int32\n",
      "\t [[{{node Placeholder/_0}}]]\n"
     ]
    },
    {
     "name": "stdout",
     "output_type": "stream",
     "text": [
      "98/98 [==============================] - 96s 963ms/step - loss: 1.9985 - accuracy: 0.2867 - val_loss: 1.8038 - val_accuracy: 0.3663\n",
      "Epoch 2/25\n",
      "98/98 [==============================] - 97s 979ms/step - loss: 1.7835 - accuracy: 0.3656 - val_loss: 1.6674 - val_accuracy: 0.4108\n",
      "Epoch 3/25\n",
      "98/98 [==============================] - 95s 961ms/step - loss: 1.6951 - accuracy: 0.3958 - val_loss: 1.6708 - val_accuracy: 0.4068\n",
      "Epoch 4/25\n",
      "98/98 [==============================] - 96s 967ms/step - loss: 1.6389 - accuracy: 0.4140 - val_loss: 1.5704 - val_accuracy: 0.4449\n",
      "Epoch 5/25\n",
      "98/98 [==============================] - 94s 953ms/step - loss: 1.5989 - accuracy: 0.4301 - val_loss: 1.5192 - val_accuracy: 0.4626\n",
      "Epoch 6/25\n",
      "98/98 [==============================] - 97s 975ms/step - loss: 1.5589 - accuracy: 0.4428 - val_loss: 1.4478 - val_accuracy: 0.4869\n",
      "Epoch 7/25\n",
      "98/98 [==============================] - 98s 992ms/step - loss: 1.5228 - accuracy: 0.4562 - val_loss: 1.4493 - val_accuracy: 0.4821\n",
      "Epoch 8/25\n",
      "98/98 [==============================] - 95s 959ms/step - loss: 1.5008 - accuracy: 0.4655 - val_loss: 1.3905 - val_accuracy: 0.5067\n",
      "Epoch 9/25\n",
      "98/98 [==============================] - 97s 980ms/step - loss: 1.4711 - accuracy: 0.4778 - val_loss: 1.3548 - val_accuracy: 0.5233\n",
      "Epoch 10/25\n",
      "98/98 [==============================] - 97s 975ms/step - loss: 1.4472 - accuracy: 0.4843 - val_loss: 1.4301 - val_accuracy: 0.5020\n",
      "Epoch 11/25\n",
      "98/98 [==============================] - 98s 989ms/step - loss: 1.4245 - accuracy: 0.4947 - val_loss: 1.3435 - val_accuracy: 0.5264\n",
      "Epoch 12/25\n",
      "98/98 [==============================] - 97s 972ms/step - loss: 1.3986 - accuracy: 0.5049 - val_loss: 1.2784 - val_accuracy: 0.5536\n",
      "Epoch 13/25\n",
      "98/98 [==============================] - 94s 954ms/step - loss: 1.3800 - accuracy: 0.5101 - val_loss: 1.2532 - val_accuracy: 0.5612\n",
      "Epoch 14/25\n",
      "98/98 [==============================] - 96s 971ms/step - loss: 1.3561 - accuracy: 0.5220 - val_loss: 1.2372 - val_accuracy: 0.5690\n",
      "Epoch 15/25\n",
      "98/98 [==============================] - 96s 969ms/step - loss: 1.3378 - accuracy: 0.5268 - val_loss: 1.2635 - val_accuracy: 0.5613\n",
      "Epoch 16/25\n",
      "98/98 [==============================] - 98s 988ms/step - loss: 1.3178 - accuracy: 0.5340 - val_loss: 1.2814 - val_accuracy: 0.5432\n",
      "Epoch 17/25\n",
      "98/98 [==============================] - 95s 960ms/step - loss: 1.3025 - accuracy: 0.5422 - val_loss: 1.2014 - val_accuracy: 0.5822\n",
      "Epoch 18/25\n",
      "98/98 [==============================] - 95s 958ms/step - loss: 1.2830 - accuracy: 0.5476 - val_loss: 1.1692 - val_accuracy: 0.5953\n",
      "Epoch 19/25\n",
      "98/98 [==============================] - 95s 959ms/step - loss: 1.2673 - accuracy: 0.5532 - val_loss: 1.2144 - val_accuracy: 0.5697\n",
      "Epoch 20/25\n",
      "98/98 [==============================] - 99s 994ms/step - loss: 1.2553 - accuracy: 0.5593 - val_loss: 1.1671 - val_accuracy: 0.5929\n",
      "Epoch 21/25\n",
      "98/98 [==============================] - 96s 962ms/step - loss: 1.2384 - accuracy: 0.5648 - val_loss: 1.1330 - val_accuracy: 0.5988\n",
      "Epoch 22/25\n",
      "98/98 [==============================] - 95s 963ms/step - loss: 1.2244 - accuracy: 0.5736 - val_loss: 1.2138 - val_accuracy: 0.5768\n",
      "Epoch 23/25\n",
      "98/98 [==============================] - 94s 952ms/step - loss: 1.2055 - accuracy: 0.5749 - val_loss: 1.0996 - val_accuracy: 0.6166\n",
      "Epoch 24/25\n",
      "98/98 [==============================] - 97s 978ms/step - loss: 1.2023 - accuracy: 0.5801 - val_loss: 1.1940 - val_accuracy: 0.5791\n",
      "Epoch 25/25\n",
      "98/98 [==============================] - 98s 985ms/step - loss: 1.1812 - accuracy: 0.5863 - val_loss: 1.2185 - val_accuracy: 0.5700\n"
     ]
    }
   ],
   "source": [
    "# initiate RMSprop optimizer\n",
    "opt = keras.optimizers.RMSprop(learning_rate=0.0001, decay=1e-6)\n",
    "\n",
    "# Let's train the model using RMSprop\n",
    "model_3.compile(loss='categorical_crossentropy',\n",
    "  optimizer=opt,\n",
    "  metrics=['accuracy'])\n",
    "x_train = x_train.astype('float32')\n",
    "x_test = x_test.astype('float32')\n",
    "x_train /= 255\n",
    "x_test /= 255\n",
    "if not data_augmentation:\n",
    "  print('Not using data augmentation.')\n",
    "  model_3.fit(x_train, y_train,\n",
    "      batch_size=batch_size,\n",
    "      epochs=epochs,\n",
    "      validation_data=(x_test, y_test),\n",
    "      shuffle=True)\n",
    "else:\n",
    "  print('Using real-time data augmentation.')\n",
    "  # This will do preprocessing and realtime data augmentation:\n",
    "  datagen = ImageDataGenerator(\n",
    "    featurewise_center=False, # set input mean to 0 over the dataset\n",
    "    samplewise_center=False, # set each sample mean to 0\n",
    "    featurewise_std_normalization=False, # divide inputs by std of the dataset\n",
    "    samplewise_std_normalization=False, # divide each input by its std\n",
    "    zca_whitening=False, # apply ZCA whitening\n",
    "    zca_epsilon=1e-06, # epsilon for ZCA whitening\n",
    "    rotation_range=0, # randomly rotate images in the range (degrees, 0 to 180)\n",
    "    # randomly shift images horizontally (fraction of total width)\n",
    "    width_shift_range=0.1,\n",
    "    # randomly shift images vertically (fraction of total height)\n",
    "    height_shift_range=0.1,\n",
    "    shear_range=0., # set range for random shear\n",
    "    zoom_range=0., # set range for random zoom\n",
    "    channel_shift_range=0., # set range for random channel shifts\n",
    "    # set mode for filling points outside the input boundaries\n",
    "    fill_mode='nearest',\n",
    "    cval=0., # value used for fill_mode = \"constant\"\n",
    "    horizontal_flip=True, # randomly flip images\n",
    "    vertical_flip=False, # randomly flip images\n",
    "    # set rescaling factor (applied before any other transformation)\n",
    "    rescale=None,\n",
    "    # set function that will be applied on each input\n",
    "    preprocessing_function=None,\n",
    "    # image data format, either \"channels_first\" or \"channels_last\"\n",
    "    data_format=None,\n",
    "    # fraction of images reserved for validation (strictly between 0 and 1)\n",
    "    validation_split=0.0)\n",
    "  # Compute quantities required for feature-wise normalization\n",
    "  # (std, mean, and principal components if ZCA whitening is applied).\n",
    "  datagen.fit(x_train)\n",
    "\n",
    "  # Fit the model on the batches generated by datagen.flow().\n",
    "  model_3_train = model_3.fit_generator(datagen.flow(x_train, y_train,\n",
    "                  batch_size=batch_size),\n",
    "            epochs=epochs, #add callback callbacks=[callback]\n",
    "            validation_data=(x_test, y_test),\n",
    "            workers=4)"
   ]
  },
  {
   "cell_type": "markdown",
   "metadata": {},
   "source": [
    "## Dropout, No Data Augmentation"
   ]
  },
  {
   "cell_type": "code",
   "execution_count": 59,
   "metadata": {},
   "outputs": [],
   "source": [
    "batch_size = 512\n",
    "num_classes = 10\n",
    "epochs = 25 \n",
    "data_augmentation = False \n",
    "num_predictions = 20\n",
    "save_dir = os.path.join(os.getcwd(), 'saved_models')\n",
    "model_name = 'keras_cifar10_trained_model.h5'"
   ]
  },
  {
   "cell_type": "code",
   "execution_count": 60,
   "metadata": {},
   "outputs": [
    {
     "name": "stdout",
     "output_type": "stream",
     "text": [
      "x_train shape: (50000, 32, 32, 3)\n",
      "50000 train samples\n",
      "10000 test samples\n"
     ]
    }
   ],
   "source": [
    "# The data, split between train and test sets:\n",
    "(x_train, y_train), (x_test, y_test) = cifar10.load_data()\n",
    "print('x_train shape:', x_train.shape)\n",
    "print(x_train.shape[0], 'train samples')\n",
    "print(x_test.shape[0], 'test samples')\n",
    "# Convert class vectors to binary class matrices.\n",
    "y_train = keras.utils.to_categorical(y_train, num_classes)\n",
    "y_test = keras.utils.to_categorical(y_test, num_classes)"
   ]
  },
  {
   "cell_type": "code",
   "execution_count": 61,
   "metadata": {},
   "outputs": [],
   "source": [
    "model_4 = Sequential()\n",
    "model_4.add(Conv2D(32, (3, 3), padding='same',\n",
    "    input_shape=x_train.shape[1:]))\n",
    "model_4.add(Activation('relu'))\n",
    "model_4.add(Conv2D(32, (3, 3)))\n",
    "model_4.add(Activation('relu'))\n",
    "model_4.add(MaxPooling2D(pool_size=(2, 2)))\n",
    "model_4.add(Dropout(0.25))\n",
    "\n",
    "model_4.add(Conv2D(64, (3, 3), padding='same'))\n",
    "model_4.add(Activation('relu'))\n",
    "model_4.add(Conv2D(64, (3, 3)))\n",
    "model_4.add(Activation('relu'))\n",
    "model_4.add(MaxPooling2D(pool_size=(2, 2)))\n",
    "model_4.add(Dropout(0.25))\n",
    "\n",
    "model_4.add(Flatten())\n",
    "model_4.add(Dense(512))\n",
    "model_4.add(Activation('relu'))\n",
    "model_4.add(Dropout(0.5))\n",
    "model_4.add(Dense(num_classes))\n",
    "model_4.add(Activation('softmax'))"
   ]
  },
  {
   "cell_type": "code",
   "execution_count": 63,
   "metadata": {},
   "outputs": [
    {
     "name": "stdout",
     "output_type": "stream",
     "text": [
      "Not using data augmentation.\n",
      "Epoch 1/25\n",
      "98/98 [==============================] - 92s 931ms/step - loss: 2.1005 - accuracy: 0.2267 - val_loss: 1.8738 - val_accuracy: 0.3479\n",
      "Epoch 2/25\n",
      "98/98 [==============================] - 93s 950ms/step - loss: 1.8524 - accuracy: 0.3289 - val_loss: 1.7448 - val_accuracy: 0.3848\n",
      "Epoch 3/25\n",
      "98/98 [==============================] - 88s 896ms/step - loss: 1.7541 - accuracy: 0.3678 - val_loss: 1.6640 - val_accuracy: 0.4056\n",
      "Epoch 4/25\n",
      "98/98 [==============================] - 91s 926ms/step - loss: 1.6926 - accuracy: 0.3893 - val_loss: 1.6127 - val_accuracy: 0.4150\n",
      "Epoch 5/25\n",
      "98/98 [==============================] - 105s 1s/step - loss: 1.6472 - accuracy: 0.4054 - val_loss: 1.5592 - val_accuracy: 0.4390\n",
      "Epoch 6/25\n",
      "98/98 [==============================] - 91s 923ms/step - loss: 1.6081 - accuracy: 0.4211 - val_loss: 1.5420 - val_accuracy: 0.4447\n",
      "Epoch 7/25\n",
      "98/98 [==============================] - 87s 889ms/step - loss: 1.5673 - accuracy: 0.4341 - val_loss: 1.4821 - val_accuracy: 0.4645\n",
      "Epoch 8/25\n",
      "98/98 [==============================] - 90s 917ms/step - loss: 1.5405 - accuracy: 0.4464 - val_loss: 1.4517 - val_accuracy: 0.4730\n",
      "Epoch 9/25\n",
      "98/98 [==============================] - 90s 914ms/step - loss: 1.5103 - accuracy: 0.4571 - val_loss: 1.4243 - val_accuracy: 0.4834\n",
      "Epoch 10/25\n",
      "98/98 [==============================] - 96s 976ms/step - loss: 1.4798 - accuracy: 0.4691 - val_loss: 1.4199 - val_accuracy: 0.4898\n",
      "Epoch 11/25\n",
      "98/98 [==============================] - 90s 915ms/step - loss: 1.4543 - accuracy: 0.4799 - val_loss: 1.3740 - val_accuracy: 0.5027\n",
      "Epoch 12/25\n",
      "98/98 [==============================] - 90s 916ms/step - loss: 1.4247 - accuracy: 0.4906 - val_loss: 1.3318 - val_accuracy: 0.5227\n",
      "Epoch 13/25\n",
      "98/98 [==============================] - 89s 902ms/step - loss: 1.4014 - accuracy: 0.4984 - val_loss: 1.3063 - val_accuracy: 0.5335\n",
      "Epoch 14/25\n",
      "98/98 [==============================] - 87s 885ms/step - loss: 1.3793 - accuracy: 0.5078 - val_loss: 1.3066 - val_accuracy: 0.5330\n",
      "Epoch 15/25\n",
      "98/98 [==============================] - 87s 889ms/step - loss: 1.3553 - accuracy: 0.5181 - val_loss: 1.3492 - val_accuracy: 0.5132\n",
      "Epoch 16/25\n",
      "98/98 [==============================] - 87s 890ms/step - loss: 1.3367 - accuracy: 0.5249 - val_loss: 1.2437 - val_accuracy: 0.5585\n",
      "Epoch 17/25\n",
      "98/98 [==============================] - 89s 910ms/step - loss: 1.3173 - accuracy: 0.5333 - val_loss: 1.2554 - val_accuracy: 0.5510\n",
      "Epoch 18/25\n",
      "98/98 [==============================] - 88s 898ms/step - loss: 1.2925 - accuracy: 0.5409 - val_loss: 1.3204 - val_accuracy: 0.5348\n",
      "Epoch 19/25\n",
      "98/98 [==============================] - 87s 886ms/step - loss: 1.2735 - accuracy: 0.5488 - val_loss: 1.1878 - val_accuracy: 0.5825\n",
      "Epoch 20/25\n",
      "98/98 [==============================] - 89s 902ms/step - loss: 1.2616 - accuracy: 0.5534 - val_loss: 1.1968 - val_accuracy: 0.5769\n",
      "Epoch 21/25\n",
      "98/98 [==============================] - 90s 916ms/step - loss: 1.2401 - accuracy: 0.5648 - val_loss: 1.1503 - val_accuracy: 0.5952\n",
      "Epoch 22/25\n",
      "98/98 [==============================] - 89s 912ms/step - loss: 1.2200 - accuracy: 0.5673 - val_loss: 1.2054 - val_accuracy: 0.5780\n",
      "Epoch 23/25\n",
      "98/98 [==============================] - 89s 904ms/step - loss: 1.2082 - accuracy: 0.5737 - val_loss: 1.1391 - val_accuracy: 0.5979\n",
      "Epoch 24/25\n",
      "98/98 [==============================] - 88s 897ms/step - loss: 1.1900 - accuracy: 0.5803 - val_loss: 1.1072 - val_accuracy: 0.6101\n",
      "Epoch 25/25\n",
      "98/98 [==============================] - 88s 893ms/step - loss: 1.1731 - accuracy: 0.5868 - val_loss: 1.0960 - val_accuracy: 0.6149\n"
     ]
    }
   ],
   "source": [
    "# initiate RMSprop optimizer\n",
    "opt = keras.optimizers.RMSprop(learning_rate=0.0001, decay=1e-6)\n",
    "\n",
    "# Let's train the model using RMSprop\n",
    "model_4.compile(loss='categorical_crossentropy',\n",
    "  optimizer=opt,\n",
    "  metrics=['accuracy'])\n",
    "x_train = x_train.astype('float32')\n",
    "x_test = x_test.astype('float32')\n",
    "x_train /= 255\n",
    "x_test /= 255\n",
    "\n",
    "if not data_augmentation:\n",
    "  print('Not using data augmentation.')\n",
    "  model_4_train_nda = model_4.fit(x_train, y_train,\n",
    "      batch_size=batch_size,\n",
    "      epochs=epochs,\n",
    "      validation_data=(x_test, y_test),\n",
    "      shuffle=True)\n",
    "else:\n",
    "  print('Using real-time data augmentation.')\n",
    "  # This will do preprocessing and realtime data augmentation:\n",
    "  datagen = ImageDataGenerator(\n",
    "    featurewise_center=False, # set input mean to 0 over the dataset\n",
    "    samplewise_center=False, # set each sample mean to 0\n",
    "    featurewise_std_normalization=False, # divide inputs by std of the dataset\n",
    "    samplewise_std_normalization=False, # divide each input by its std\n",
    "    zca_whitening=False, # apply ZCA whitening\n",
    "    zca_epsilon=1e-06, # epsilon for ZCA whitening\n",
    "    rotation_range=0, # randomly rotate images in the range (degrees, 0 to 180)\n",
    "    # randomly shift images horizontally (fraction of total width)\n",
    "    width_shift_range=0.1,\n",
    "    # randomly shift images vertically (fraction of total height)\n",
    "    height_shift_range=0.1,\n",
    "    shear_range=0., # set range for random shear\n",
    "    zoom_range=0., # set range for random zoom\n",
    "    channel_shift_range=0., # set range for random channel shifts\n",
    "    # set mode for filling points outside the input boundaries\n",
    "    fill_mode='nearest',\n",
    "    cval=0., # value used for fill_mode = \"constant\"\n",
    "    horizontal_flip=True, # randomly flip images\n",
    "    vertical_flip=False, # randomly flip images\n",
    "    # set rescaling factor (applied before any other transformation)\n",
    "    rescale=None,\n",
    "    # set function that will be applied on each input\n",
    "    preprocessing_function=None,\n",
    "    # image data format, either \"channels_first\" or \"channels_last\"\n",
    "    data_format=None,\n",
    "    # fraction of images reserved for validation (strictly between 0 and 1)\n",
    "    validation_split=0.0)\n",
    "  # Compute quantities required for feature-wise normalization\n",
    "  # (std, mean, and principal components if ZCA whitening is applied).\n",
    "  datagen.fit(x_train)\n",
    "\n",
    "  # Fit the model on the batches generated by datagen.flow().\n",
    "  model_4_train = model_4.fit_generator(datagen.flow(x_train, y_train,\n",
    "                  batch_size=batch_size),\n",
    "            epochs=epochs,\n",
    "            validation_data=(x_test, y_test),\n",
    "            workers=4)"
   ]
  },
  {
   "cell_type": "code",
   "execution_count": 67,
   "metadata": {},
   "outputs": [
    {
     "data": {
      "image/png": "[encoded data removed]",
      "text/plain": [
       "<Figure size 720x432 with 1 Axes>"
      ]
     },
     "metadata": {
      "needs_background": "light"
     },
     "output_type": "display_data"
    }
   ],
   "source": [
    "import matplotlib.pyplot as plt\n",
    "\n",
    "plt.figure(figsize=(10, 6))\n",
    "plt.xlabel('# OF EPOCHS')\n",
    "plt.ylabel('TRAIN ACC')\n",
    "plt.title('ACCURACY GRAPH')\n",
    "\n",
    "# Define the training histories and labels\n",
    "histories = [model_1_train_nda, model_2_train, model_3_train, model_4_train_nda]\n",
    "labels = ['NO DROPOUT, NO DATA AUG', 'DATA AUG, DROPOUT', 'DATA AUG, NO DROPOUT', 'NO DATA AUG, DROPOUT']\n",
    "\n",
    "# Define line styles and markers for each history\n",
    "line_styles = ['-', '--', '-.', ':']\n",
    "markers = ['o', 's', '^', 'D']\n",
    "\n",
    "# Plot the accuracy for each history\n",
    "for i, history in enumerate(histories):\n",
    "    plt.plot(history.history['accuracy'], label=labels[i], linestyle=line_styles[i], marker=markers[i])\n",
    "\n",
    "plt.legend()\n",
    "plt.grid()\n",
    "plt.show()"
   ]
  },
  {
   "cell_type": "markdown",
   "metadata": {},
   "source": [
    "## Explanation"
   ]
  },
  {
   "cell_type": "markdown",
   "metadata": {},
   "source": [
    "From the graphs we can easily observe the better performance of models in the training section in the absence of data augmentation or dropout. This is very consistent with theory since data augmentation and dropout introduce a level of randomness and regularization that can make training more challenging in the early epochs. However, training accuracy does not necessarily show model performance. In order to capture the true level of performance we need to examine the test data where data augmentation and drop off are expected to boost our performance by making the models more capable of achieving better generalization performance. "
   ]
  }
 ],
 "metadata": {
  "colab": {
   "provenance": []
  },
  "kernelspec": {
   "display_name": "Python 3 (ipykernel)",
   "language": "python",
   "name": "python3"
  },
  "language_info": {
   "codemirror_mode": {
    "name": "ipython",
    "version": 3
   },
   "file_extension": ".py",
   "mimetype": "text/x-python",
   "name": "python",
   "nbconvert_exporter": "python",
   "pygments_lexer": "ipython3",
   "version": "3.9.7"
  }
 },
 "nbformat": 4,
 "nbformat_minor": 1
}
